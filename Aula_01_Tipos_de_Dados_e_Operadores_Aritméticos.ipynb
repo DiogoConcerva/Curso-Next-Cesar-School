{
  "nbformat": 4,
  "nbformat_minor": 0,
  "metadata": {
    "colab": {
      "name": "Aula 01 - Tipos de Dados e Operadores Aritméticos.ipynb",
      "provenance": [],
      "collapsed_sections": [],
      "include_colab_link": true
    },
    "kernelspec": {
      "name": "python3",
      "display_name": "Python 3"
    }
  },
  "cells": [
    {
      "cell_type": "markdown",
      "metadata": {
        "id": "view-in-github",
        "colab_type": "text"
      },
      "source": [
        "<a href=\"https://colab.research.google.com/github/DiogoConcerva/Curso-Next-Cesar-School/blob/main/Aula_01_Tipos_de_Dados_e_Operadores_Aritm%C3%A9ticos.ipynb\" target=\"_parent\"><img src=\"https://colab.research.google.com/assets/colab-badge.svg\" alt=\"Open In Colab\"/></a>"
      ]
    },
    {
      "cell_type": "markdown",
      "metadata": {
        "id": "9ujEVvoCTM6p"
      },
      "source": [
        "<img src=\"https://www.cesar.school/wp-content/uploads/2019/09/marca_cesar_school.png\" alt=\"drawing\" width=\"200\"/>\n",
        "\n",
        "# Python - **Aula 01**\n",
        "\n",
        "---\n",
        "\n",
        "- Entender conceitos básicos sobre programação;\n",
        "- Conhecer a linguagem Python;\n",
        "- Criar seu primeiro programa em Python;"
      ]
    },
    {
      "cell_type": "markdown",
      "metadata": {
        "id": "L1rO4J92bWIu"
      },
      "source": [
        "#Compreendendo as variáveis\n",
        "\n",
        "Em termos técnicos, uma variável atribui um local de armazenamento a um valor que está vinculado a um nome ou identificador simbólico. O nome da variável é usado para fazer referência a esse valor armazenado em um programa de computador."
      ]
    },
    {
      "cell_type": "code",
      "metadata": {
        "id": "gbAP6hlEbYeI"
      },
      "source": [
        "my_int = 103204934813\n",
        "idade = 41"
      ],
      "execution_count": null,
      "outputs": []
    },
    {
      "cell_type": "markdown",
      "metadata": {
        "id": "AVxtUEgYxRio"
      },
      "source": [
        "*   o nome da variável `my_int`\n",
        "*   o operador de atribuição, também conhecido como sinal de igual `=`\n",
        "*   o valor que está sendo vinculado ao nome da variável `103204934813`"
      ]
    },
    {
      "cell_type": "markdown",
      "metadata": {
        "id": "AFQKUYj3c1It"
      },
      "source": [
        "## Regras para criação de nomes de variáveis:\n",
        "\n",
        "- Não pode começar com número;\n",
        "- Não pode haver espaço (use `_`);\n",
        "- Não pode haver caracteres especiais: `\" ' , < > | / \\ ( ) @ ! # $ % ^ & * ~ - +`\n",
        "\n",
        "##Reatribuindo Variáveis"
      ]
    },
    {
      "cell_type": "code",
      "metadata": {
        "id": "S3sVtJ7aucvi"
      },
      "source": [
        "idade = 45"
      ],
      "execution_count": null,
      "outputs": []
    },
    {
      "cell_type": "markdown",
      "metadata": {
        "id": "UUnLyISHNT2K"
      },
      "source": [
        "##Atribuição múltipla\n",
        "\n",
        "Com Python, você pode atribuir um único valor a várias variáveis ​​ao mesmo tempo. Isso permite inicializar várias variáveis ​​de uma vez, que você mesmo pode reatribuir posteriormente no programa ou por meio da entrada do usuário."
      ]
    },
    {
      "cell_type": "code",
      "metadata": {
        "id": "HtUBkYLeNbgz",
        "colab": {
          "base_uri": "https://localhost:8080/"
        },
        "outputId": "d0b0ee1c-500c-44b0-9944-7ebf1cdb43d8"
      },
      "source": [
        "x = y = z = 0\n",
        "print(x)\n",
        "print(y)\n",
        "print(z)\n",
        "\n",
        "a, b, c = 1, 2, 3"
      ],
      "execution_count": null,
      "outputs": [
        {
          "output_type": "stream",
          "text": [
            "0\n",
            "0\n",
            "0\n"
          ],
          "name": "stdout"
        }
      ]
    },
    {
      "cell_type": "markdown",
      "metadata": {
        "id": "WHLD7iQHzhc9"
      },
      "source": [
        "\n",
        "#Criação e impressão de strings\n",
        "\n",
        "Strings existem entre aspas simples `'` ou duplas `\"` em Python, portanto, para criar uma string, coloque uma sequência de caracteres em um ou outro."
      ]
    },
    {
      "cell_type": "code",
      "metadata": {
        "id": "pT8v2fX3T0P_"
      },
      "source": [
        "'Esta é uma string entre aspas simples.'\n",
        "\"Esta é uma string entre aspas duplas.\""
      ],
      "execution_count": null,
      "outputs": []
    },
    {
      "cell_type": "markdown",
      "metadata": {
        "id": "koA9l9SLvGgv"
      },
      "source": [
        "Podemos imprimir strings simplesmente chamando a função `print()`"
      ]
    },
    {
      "cell_type": "code",
      "metadata": {
        "id": "Q2e1z7ECvOhm",
        "colab": {
          "base_uri": "https://localhost:8080/"
        },
        "outputId": "2ed57fcd-6999-4e5c-f620-5508de7b84c7"
      },
      "source": [
        "# Print em Python\n",
        "print('Eu sou muito \"inteligente\"')\n"
      ],
      "execution_count": null,
      "outputs": [
        {
          "output_type": "stream",
          "text": [
            "Eu sou muito \"inteligente\"\n"
          ],
          "name": "stdout"
        }
      ]
    },
    {
      "cell_type": "markdown",
      "metadata": {
        "id": "FfEWOwmhVLhE"
      },
      "source": [
        "##Sintaxe do comentário\n",
        "Os comentários em Python começam com uma marca de hash `#` e um caractere de espaço em branco e continuam até o final da linha.\n",
        "\n",
        "Geralmente, os comentários serão semelhantes a este:"
      ]
    },
    {
      "cell_type": "code",
      "metadata": {
        "id": "I8hKONOyVQOw"
      },
      "source": [
        "# comentário de linha\n",
        "'''comentário de bloco'''"
      ],
      "execution_count": null,
      "outputs": []
    },
    {
      "cell_type": "markdown",
      "metadata": {
        "id": "W7GPfOkUwNgg"
      },
      "source": [
        "##Comentários Inline\n",
        "Os comentários Iinline ocorrem na mesma linha de uma instrução, seguindo o próprio código.\n",
        "\n",
        "Geralmente, os comentários inline são assim:"
      ]
    },
    {
      "cell_type": "code",
      "metadata": {
        "id": "9BlI5KrMwkQ1"
      },
      "source": [
        "x = 8 # isso é um número da hora"
      ],
      "execution_count": null,
      "outputs": []
    },
    {
      "cell_type": "markdown",
      "metadata": {
        "id": "WsXf_ireWQZd"
      },
      "source": [
        "# Tipos de dados\n",
        "\n",
        "## Numéricos\n",
        "- `int` - Inteiros\n",
        "- `float` - Pontos Flutuantes\n",
        "\n",
        "## Texto\n",
        "- `str` - String\n",
        "\n",
        "## Booleano\n",
        "- `bool` - `True` ou `False`\n",
        "\n",
        "##Listas\n",
        "- `list` - [ ]\n",
        "\n",
        "##Tuplas\n",
        "- `tuples` - ( )\n",
        "\n",
        "##Dicionários\n",
        "- `dictionary` - { }\n",
        "\n",
        "> Função `type()`"
      ]
    },
    {
      "cell_type": "code",
      "metadata": {
        "id": "LrgPw5AZWYBY",
        "colab": {
          "base_uri": "https://localhost:8080/"
        },
        "outputId": "5d7802db-7fcf-4ec9-ff93-c24379bf3609"
      },
      "source": [
        "print(type(10))\n",
        "print(type(10.0))\n",
        "print(type('Oi'))\n",
        "print(type(True))"
      ],
      "execution_count": null,
      "outputs": [
        {
          "output_type": "stream",
          "text": [
            "<class 'int'>\n",
            "<class 'float'>\n",
            "<class 'str'>\n",
            "<class 'bool'>\n"
          ],
          "name": "stdout"
        }
      ]
    },
    {
      "cell_type": "markdown",
      "metadata": {
        "id": "qf0JgZfioSeU"
      },
      "source": [
        "# ENTRADA DE DADOS\n",
        "Entrada de Dados refere-se a entrada de dados do mundo externo para o meio digital.\n",
        "\n",
        "Sintaxe da função input()\n",
        "\n",
        "```variável = input(mensagem opcional)```\n"
      ]
    },
    {
      "cell_type": "code",
      "metadata": {
        "id": "0Ac7eUAxoaJB",
        "colab": {
          "base_uri": "https://localhost:8080/"
        },
        "outputId": "0122ade7-0d96-4cc6-eb0a-4f92068e6118"
      },
      "source": [
        "name = input('Qual o seu nome: ')\n",
        "print('Seu nome é', name)"
      ],
      "execution_count": null,
      "outputs": [
        {
          "output_type": "stream",
          "text": [
            "Qual o seu nome: Diogo\n",
            "Seu nome é Diogo\n"
          ],
          "name": "stdout"
        }
      ]
    },
    {
      "cell_type": "markdown",
      "metadata": {
        "id": "gJStn9uApEa4"
      },
      "source": [
        "#Funções para conversão de tipo\n",
        "\n",
        "Algumas vezes é necessário converter valores de um tipo para outro. As funções int, float e str tentarão converter seus argumentos para os tipos int, float e str, respectivamente. Nós chamamos elas de funções para conversão de tipos."
      ]
    },
    {
      "cell_type": "markdown",
      "metadata": {
        "id": "WLn0pnTqnBh3"
      },
      "source": [
        "##Convertendo os tipos de número"
      ]
    },
    {
      "cell_type": "code",
      "metadata": {
        "id": "ZCEYln4WsTL5",
        "colab": {
          "base_uri": "https://localhost:8080/"
        },
        "outputId": "761e2b00-8b07-44a2-ce9e-53734bebd7b2"
      },
      "source": [
        "# Convertendo os números inteiros em floats\n",
        "a = 10\n",
        "print(type(a))\n",
        "a = float('10.5')\n",
        "print(type(a))\n",
        "print(a)\n",
        "\n",
        "# Convertendo floats em inteiros\n",
        "b = int(10.4)\n",
        "print(b)\n",
        "\n",
        "# Números convertidos através de divisão\n",
        "a = 5 / 2\n",
        "print(a)"
      ],
      "execution_count": null,
      "outputs": [
        {
          "output_type": "stream",
          "text": [
            "<class 'int'>\n",
            "<class 'float'>\n",
            "10.5\n",
            "10\n",
            "2.5\n"
          ],
          "name": "stdout"
        }
      ]
    },
    {
      "cell_type": "markdown",
      "metadata": {
        "id": "unA7FMpPsp2q"
      },
      "source": [
        "##Convertendo com as strings"
      ]
    },
    {
      "cell_type": "code",
      "metadata": {
        "id": "OSKDPD4_s0so",
        "colab": {
          "base_uri": "https://localhost:8080/"
        },
        "outputId": "91082fb6-b8d8-4763-a510-18d4397cae95"
      },
      "source": [
        "# Convertendo números em strings\n",
        "txt = str(50)\n",
        "print(type(txt))\n",
        "\n",
        "# Convertendo strings em números\n",
        "year = input('Digite o ano que você nasceu ')\n",
        "print(type(year))\n",
        "anoConvertido = int(year)\n",
        "print(type(anoConvertido))\n",
        "\n",
        "# --------------------------\n"
      ],
      "execution_count": null,
      "outputs": [
        {
          "output_type": "stream",
          "text": [
            "<class 'str'>\n",
            "Digite o ano que você nasceu 2013\n",
            "<class 'str'>\n",
            "<class 'int'>\n"
          ],
          "name": "stdout"
        }
      ]
    },
    {
      "cell_type": "markdown",
      "metadata": {
        "id": "6fOqcWCyYMit"
      },
      "source": [
        "# Operações Aritméticas\n",
        "\n",
        "`x + y`\tSoma de X e Y\n",
        "\n",
        "`x - y`\tSubtração de X e Y\n",
        "\n",
        "`-x`\tSinal alterado de X\n",
        "\n",
        "`+x`\tIdentidade de X\n",
        "\n",
        "`x * y`\tMultiplicação de X e Y\n",
        "\n",
        "`x / y`\tDivisão de X e Y\n",
        "\n",
        "`x // y`\tDivisão de X e Y com resultado em inteiro\n",
        "\n",
        "`x % y`\tResto da divisão de X / Y\n",
        "\n",
        "`x ** y`\tX elevado a Y"
      ]
    },
    {
      "cell_type": "code",
      "metadata": {
        "id": "22HRvNH8YbN4",
        "colab": {
          "base_uri": "https://localhost:8080/"
        },
        "outputId": "107a9139-bf03-4824-dfb5-27773583fb7d"
      },
      "source": [
        "print(5 // 2)"
      ],
      "execution_count": null,
      "outputs": [
        {
          "output_type": "stream",
          "text": [
            "2\n"
          ],
          "name": "stdout"
        }
      ]
    },
    {
      "cell_type": "code",
      "metadata": {
        "id": "ENKf-mJAZRle",
        "colab": {
          "base_uri": "https://localhost:8080/"
        },
        "outputId": "98c98529-a008-4a02-eca2-3b3a2a97929f"
      },
      "source": [
        "print(5 % 2)"
      ],
      "execution_count": null,
      "outputs": [
        {
          "output_type": "stream",
          "text": [
            "1\n"
          ],
          "name": "stdout"
        }
      ]
    },
    {
      "cell_type": "code",
      "metadata": {
        "id": "FuYK_oc9ZT-X",
        "colab": {
          "base_uri": "https://localhost:8080/"
        },
        "outputId": "05011f4b-d283-4a52-e152-89816cd414df"
      },
      "source": [
        "print(2 ** 4)"
      ],
      "execution_count": null,
      "outputs": [
        {
          "output_type": "stream",
          "text": [
            "16\n"
          ],
          "name": "stdout"
        }
      ]
    },
    {
      "cell_type": "code",
      "metadata": {
        "id": "6TUrxlpLZZYP",
        "colab": {
          "base_uri": "https://localhost:8080/"
        },
        "outputId": "3396359d-db86-4b74-c345-817b5c1ee125"
      },
      "source": [
        "n = 10\n",
        "y = -15\n",
        "z = -20\n",
        "print(-n)\n",
        "print(-y)\n",
        "print(+z)"
      ],
      "execution_count": null,
      "outputs": [
        {
          "output_type": "stream",
          "text": [
            "-10\n",
            "15\n",
            "-20\n"
          ],
          "name": "stdout"
        }
      ]
    },
    {
      "cell_type": "code",
      "metadata": {
        "id": "HThziQMoZeR-"
      },
      "source": [
        ""
      ],
      "execution_count": null,
      "outputs": []
    },
    {
      "cell_type": "markdown",
      "metadata": {
        "id": "PbswAVPDQWGU"
      },
      "source": [
        "#Operações Aritméticas Unárias\n",
        "\n",
        "Uma expressão matemática unária consiste em apenas um componente ou elemento e, em Python, os sinais de mais e menos podem ser usados ​​como um único elemento emparelhado com um valor para retornar a identidade do valor (`+`) ou alterar o sinal do valor (`-`)."
      ]
    },
    {
      "cell_type": "code",
      "metadata": {
        "id": "V_k9cZFmRE5D"
      },
      "source": [
        ""
      ],
      "execution_count": null,
      "outputs": []
    },
    {
      "cell_type": "code",
      "metadata": {
        "id": "A4LmTWTFRO--"
      },
      "source": [
        ""
      ],
      "execution_count": null,
      "outputs": []
    },
    {
      "cell_type": "markdown",
      "metadata": {
        "id": "N5isIh00MSET"
      },
      "source": [
        "A ordem da operação aritmética importa!"
      ]
    },
    {
      "cell_type": "code",
      "metadata": {
        "id": "sukjPYA-aIJ2",
        "colab": {
          "base_uri": "https://localhost:8080/"
        },
        "outputId": "6d00fddf-c427-464e-f720-8e9c1a85caef"
      },
      "source": [
        "total1 = 2 + 10 * 10 - 5\n",
        "print(total1)"
      ],
      "execution_count": null,
      "outputs": [
        {
          "output_type": "stream",
          "text": [
            "97\n"
          ],
          "name": "stdout"
        }
      ]
    },
    {
      "cell_type": "code",
      "metadata": {
        "id": "9VzHixciaWmH",
        "colab": {
          "base_uri": "https://localhost:8080/"
        },
        "outputId": "de82e3c7-7b60-47b7-d05e-6f39db7c1238"
      },
      "source": [
        "total2 = (2 + 10) * (10 - 5)\n",
        "print(total2)"
      ],
      "execution_count": null,
      "outputs": [
        {
          "output_type": "stream",
          "text": [
            "60\n"
          ],
          "name": "stdout"
        }
      ]
    },
    {
      "cell_type": "code",
      "metadata": {
        "id": "Wz47pP7DMqNA",
        "colab": {
          "base_uri": "https://localhost:8080/"
        },
        "outputId": "5681d3df-5269-4a37-b812-63aff9e67ed9"
      },
      "source": [
        "total3 = 20 + 5 * 2;\n",
        "print(total3)"
      ],
      "execution_count": null,
      "outputs": [
        {
          "output_type": "stream",
          "text": [
            "30\n"
          ],
          "name": "stdout"
        }
      ]
    },
    {
      "cell_type": "code",
      "metadata": {
        "id": "qlxTpJG9mDpw",
        "colab": {
          "base_uri": "https://localhost:8080/"
        },
        "outputId": "b622bce4-6f74-4157-e4f3-4841c0baaad4"
      },
      "source": [
        "total4 = (20 + 5) * 2;\n",
        "print(total4)"
      ],
      "execution_count": null,
      "outputs": [
        {
          "output_type": "stream",
          "text": [
            "50\n"
          ],
          "name": "stdout"
        }
      ]
    },
    {
      "cell_type": "code",
      "metadata": {
        "id": "Qime-C8AmFUY",
        "colab": {
          "base_uri": "https://localhost:8080/"
        },
        "outputId": "1f340008-8c84-4910-de73-c5301b11fdfe"
      },
      "source": [
        "total5 = 20 / 2 * 5;\n",
        "print(total5)"
      ],
      "execution_count": null,
      "outputs": [
        {
          "output_type": "stream",
          "text": [
            "50.0\n"
          ],
          "name": "stdout"
        }
      ]
    },
    {
      "cell_type": "code",
      "metadata": {
        "id": "yKZ8c78CmGcB",
        "colab": {
          "base_uri": "https://localhost:8080/"
        },
        "outputId": "3518932b-1340-41cf-add5-19188e1bf2fa"
      },
      "source": [
        "total6 = 10 + 10 * 2 + 20 / 2;\n",
        "print(total6)"
      ],
      "execution_count": null,
      "outputs": [
        {
          "output_type": "stream",
          "text": [
            "40.0\n"
          ],
          "name": "stdout"
        }
      ]
    },
    {
      "cell_type": "markdown",
      "metadata": {
        "id": "Ohy7mWPJRWbJ"
      },
      "source": [
        "##Operadores de atribuição\n",
        "\n",
        "\n",
        "* `+=` - - adiciona e atribui o valor\n",
        "* `-=` - - subtrai e atribui o valor\n",
        "* `*=` - - multiplica e atribui o valor\n",
        "* `/=` - - divide e atribui o valor\n",
        "* `//=` - - divide e depois atribuir o valor em inteiro\n",
        "* `**=` - - aumentar a potência e então atribuir o valor\n",
        "* `%=` - - retorna o resto da divisão e depois atribui o valor\n",
        "\n"
      ]
    },
    {
      "cell_type": "code",
      "metadata": {
        "id": "wASxPioUTGTA"
      },
      "source": [
        "y = 0\n",
        "y += 1\n",
        "y -= 1\n",
        "y *= 2\n",
        "y /= 3\n",
        "y //= 5\n",
        "y **= 2\n",
        "y %= 3"
      ],
      "execution_count": null,
      "outputs": []
    },
    {
      "cell_type": "markdown",
      "metadata": {
        "id": "ALgn8jEOXI8m"
      },
      "source": [
        "# Exercícios\n",
        "\n",
        "1. Faça um Programa que mostre a mensagem \"Alo mundo\" na tela"
      ]
    },
    {
      "cell_type": "code",
      "metadata": {
        "id": "E-tm-Ac-dkKI",
        "colab": {
          "base_uri": "https://localhost:8080/"
        },
        "outputId": "3ee62650-5411-43a1-ba29-78b24c3437a6"
      },
      "source": [
        "print('Alô mundo')"
      ],
      "execution_count": null,
      "outputs": [
        {
          "output_type": "stream",
          "text": [
            "Alô mundo\n"
          ],
          "name": "stdout"
        }
      ]
    },
    {
      "cell_type": "markdown",
      "metadata": {
        "id": "H9Xmh3n0dku7"
      },
      "source": [
        "\n",
        "2. Faça um Programa que peça um número e então mostre a mensagem O número informado foi [número]."
      ]
    },
    {
      "cell_type": "code",
      "metadata": {
        "id": "oJxXXoQMePMm",
        "colab": {
          "base_uri": "https://localhost:8080/"
        },
        "outputId": "cb5ad550-569f-421d-b1b5-2427fc2ed6f9"
      },
      "source": [
        "numero = input('Informe um número: ')\n",
        "print('O número informado foi', numero)"
      ],
      "execution_count": null,
      "outputs": [
        {
          "output_type": "stream",
          "text": [
            "Informe um número: 5\n",
            "O número informado foi 5\n"
          ],
          "name": "stdout"
        }
      ]
    },
    {
      "cell_type": "markdown",
      "metadata": {
        "id": "Mc8ww-KEdndf"
      },
      "source": [
        "\n",
        "3. Faça um Programa que peça dois números e imprima a soma."
      ]
    },
    {
      "cell_type": "code",
      "metadata": {
        "id": "SfwZe2zseO3m",
        "colab": {
          "base_uri": "https://localhost:8080/"
        },
        "outputId": "b37082d6-be20-4317-f123-059dbccf7b69"
      },
      "source": [
        "numero1 = float(input('Digite o primeiro número: '))\n",
        "numero2 = float(input('Digite o segundo número: '))\n",
        "print('A soma dos número é', numero1 + numero2)"
      ],
      "execution_count": null,
      "outputs": [
        {
          "output_type": "stream",
          "text": [
            "Digite o primeiro número: 10\n",
            "Digite o segundo número: 13\n",
            "A soma dos número é 23.0\n"
          ],
          "name": "stdout"
        }
      ]
    },
    {
      "cell_type": "markdown",
      "metadata": {
        "id": "MfVY2KazdpxA"
      },
      "source": [
        "\n",
        "4. Faça um Programa que peça as 4 notas bimestrais e mostre a média."
      ]
    },
    {
      "cell_type": "code",
      "metadata": {
        "id": "B5dg4jyLeOV9",
        "colab": {
          "base_uri": "https://localhost:8080/"
        },
        "outputId": "1b0e6f36-b34b-40b6-e96f-9ad966b1c861"
      },
      "source": [
        "nota1 = float(input('Digite a primeira nota: '))\n",
        "nota2 = float(input('Digite a segunda nota: '))\n",
        "nota3 = float(input('Digite a terceira nota: '))\n",
        "nota4 = float(input('Digite a quarta nota: '))\n",
        "print('A média das notas foi', (nota1 + nota2 + nota3 + nota4) / 4)"
      ],
      "execution_count": null,
      "outputs": [
        {
          "output_type": "stream",
          "text": [
            "Digite a primeira nota: 10\n",
            "Digite a segunda nota: 5\n",
            "Digite a terceira nota: 7.5\n",
            "Digite a quarta nota: 8\n",
            "A média das notas foi 7.625\n"
          ],
          "name": "stdout"
        }
      ]
    },
    {
      "cell_type": "markdown",
      "metadata": {
        "id": "GYPjRaE1dsEo"
      },
      "source": [
        "\n",
        "5. Faça um Programa que converta metros para centímetros."
      ]
    },
    {
      "cell_type": "code",
      "metadata": {
        "id": "bDTpB4hxeOAS",
        "colab": {
          "base_uri": "https://localhost:8080/"
        },
        "outputId": "c8b8edc1-3035-42ac-d045-c290995bf1be"
      },
      "source": [
        "metros = float(input('Quantos metros você deseja converter para centímetros? '))\n",
        "print(metros, 'm é igual a', metros * 100, 'cm.')"
      ],
      "execution_count": null,
      "outputs": [
        {
          "output_type": "stream",
          "text": [
            "Quantos metros você deseja converter para centímetros? 2\n",
            "2.0 m é igual a 200.0 cm.\n"
          ],
          "name": "stdout"
        }
      ]
    },
    {
      "cell_type": "markdown",
      "metadata": {
        "id": "Iw_6PGlvdt2P"
      },
      "source": [
        "\n",
        "6. Faça um Programa que peça o raio de um círculo, calcule e mostre sua área."
      ]
    },
    {
      "cell_type": "code",
      "metadata": {
        "id": "QBB456-ceNox",
        "colab": {
          "base_uri": "https://localhost:8080/"
        },
        "outputId": "7e891a38-d9d1-4932-83fd-c695c6cc5dc5"
      },
      "source": [
        "raio = float(input('Informe o raio do círculo: '))\n",
        "print('A área do círculo é', 3.14 * raio ** 2)"
      ],
      "execution_count": null,
      "outputs": [
        {
          "output_type": "stream",
          "text": [
            "Informe o raio do círculo: 3\n",
            "A área do círculo é 28.26\n"
          ],
          "name": "stdout"
        }
      ]
    },
    {
      "cell_type": "markdown",
      "metadata": {
        "id": "6WX2yHw8dvgh"
      },
      "source": [
        "\n",
        "7. Faça um Programa que calcule a área de um quadrado, em seguida mostre o dobro desta área para o usuário."
      ]
    },
    {
      "cell_type": "code",
      "metadata": {
        "id": "bq1uTrxieNIi",
        "colab": {
          "base_uri": "https://localhost:8080/"
        },
        "outputId": "1e5962da-bcb1-4a4e-e863-c2c3de117139"
      },
      "source": [
        "lado = float(input('Informe o medida do lado do quadrado: '))\n",
        "area = lado ** 2\n",
        "print(f'A área do quadrado é {area} e o dobro da área do quadrado é {area * 2}')"
      ],
      "execution_count": null,
      "outputs": [
        {
          "output_type": "stream",
          "text": [
            "Informe o medida do lado do quadrado: 4\n",
            "A área do quadrado é 16.0 e o dobro da área do quadrado é 32.0\n"
          ],
          "name": "stdout"
        }
      ]
    },
    {
      "cell_type": "markdown",
      "metadata": {
        "id": "OHtr_FwmdxNL"
      },
      "source": [
        "\n",
        "8. Faça um Programa que pergunte quanto você ganha por hora e o número de horas trabalhadas no mês. Calcule e mostre o total do seu salário no referido mês."
      ]
    },
    {
      "cell_type": "code",
      "metadata": {
        "id": "r8eK89x0eMzi",
        "colab": {
          "base_uri": "https://localhost:8080/"
        },
        "outputId": "05d9d0f4-ff23-47d3-911b-53d3f58e4cee"
      },
      "source": [
        "valor = float(input('Informe quanto você ganha por hora R$ '))\n",
        "horas = float(input('Informe quantas horas trabalhada no mês: '))\n",
        "print(f'O total do seu salário no mês é R$ {valor * horas:.2f}')"
      ],
      "execution_count": null,
      "outputs": [
        {
          "output_type": "stream",
          "text": [
            "Informe quanto você ganha por hora R$ 52.37\n",
            "Informe quantas horas trabalhada no mês: 44\n",
            "O total do seu salário no mês é R$ 2304.28\n"
          ],
          "name": "stdout"
        }
      ]
    },
    {
      "cell_type": "markdown",
      "metadata": {
        "id": "OTc5-XqodzSn"
      },
      "source": [
        "\n",
        "9. Faça um Programa que peça a temperatura em graus Fahrenheit, transforme e mostre a temperatura em graus Celsius.\n",
        "> C = 5 * ((F-32) / 9)."
      ]
    },
    {
      "cell_type": "code",
      "metadata": {
        "id": "bfkUM9cceMbv",
        "colab": {
          "base_uri": "https://localhost:8080/"
        },
        "outputId": "b65ca0a4-6ee0-46dc-ab2c-ceb3404e9816"
      },
      "source": [
        "f = float(input('Informe a temperatura em Fahrenheit: '))\n",
        "c = 5 * ((f - 32) / 9)\n",
        "print(f'{f}°F equivale a {c:.2f}°C')"
      ],
      "execution_count": null,
      "outputs": [
        {
          "output_type": "stream",
          "text": [
            "Informe a temperatura em Fahrenheit: 40\n",
            "40.0°F equivale a 4.44°C\n"
          ],
          "name": "stdout"
        }
      ]
    },
    {
      "cell_type": "markdown",
      "metadata": {
        "id": "E17ya82wd1rv"
      },
      "source": [
        "\n",
        "10. Faça um Programa que peça a temperatura em graus Celsius, transforme e mostre em graus Fahrenheit."
      ]
    },
    {
      "cell_type": "code",
      "metadata": {
        "id": "5f6H4KPoeMBf",
        "colab": {
          "base_uri": "https://localhost:8080/"
        },
        "outputId": "6446ad00-a3dd-460f-d77a-3fd219ff5017"
      },
      "source": [
        "c = float(input('Informe a temperatura em Celsius: '))\n",
        "f = (c * (9 / 5)) + 32\n",
        "print(f'{c}° equivale a {f:.2f}°F')"
      ],
      "execution_count": null,
      "outputs": [
        {
          "output_type": "stream",
          "text": [
            "Informe a temperatura em Celsius: 40\n",
            "40.0° equivale a 104.00°F\n"
          ],
          "name": "stdout"
        }
      ]
    },
    {
      "cell_type": "markdown",
      "metadata": {
        "id": "gfkqRT1hd5Uq"
      },
      "source": [
        "\n",
        "11. Faça um Programa que peça 2 números inteiros e um número real. Calcule e mostre:\n",
        "    - o produto do dobro do primeiro com metade do segundo.\n",
        "    - soma do triplo do primeiro com o terceiro.\n",
        "    - terceiro elevado ao cubo."
      ]
    },
    {
      "cell_type": "code",
      "metadata": {
        "id": "U0LGrxCYeLbT",
        "colab": {
          "base_uri": "https://localhost:8080/"
        },
        "outputId": "3aedcc3b-9598-4790-85be-8e5788d767cb"
      },
      "source": [
        "num1 = int(input('Digite o primeiro número inteiro: '))\n",
        "num2 = int(input('Digite o segundo número inteiro: '))\n",
        "num3 = float(input('Digite agora um número real: '))\n",
        "print(f'O produto do dobro do primeiro com metade do segundo é {((2 * num1) * (num2 / 2))}')\n",
        "print(f'A soma do triplo do primeiro com o terceiro é {((3 * num1) + (num3))}')\n",
        "print(f'O terceiro elevado ao cubo é: {num3 ** 3}')"
      ],
      "execution_count": null,
      "outputs": [
        {
          "output_type": "stream",
          "text": [
            "Digite o primeiro número inteiro: 6\n",
            "Digite o segundo número inteiro: 3\n",
            "Digite agora um número real: 3.5\n",
            "O produto do dobro do primeiro com metade do segundo é 18.0\n",
            "A soma do triplo do primeiro com o terceiro é 21.5\n",
            "O terceiro elevado ao cubo é: 42.875\n"
          ],
          "name": "stdout"
        }
      ]
    },
    {
      "cell_type": "markdown",
      "metadata": {
        "id": "GeccMwZid7LV"
      },
      "source": [
        "\n",
        "12. Tendo como dados de entrada a altura de uma pessoa, construa um algoritmo que calcule seu peso ideal, usando a seguinte fórmula: (72.7*altura) - 58"
      ]
    },
    {
      "cell_type": "code",
      "metadata": {
        "id": "KG7NZMI4eK-R",
        "colab": {
          "base_uri": "https://localhost:8080/"
        },
        "outputId": "90a82b64-4999-4e20-aed6-c6143b6b2f82"
      },
      "source": [
        "altura = float(input('Informe sua altura: '))\n",
        "peso = (72.7 * altura) - 58\n",
        "print(f'Seu peso ideal é {peso} Kg')"
      ],
      "execution_count": null,
      "outputs": [
        {
          "output_type": "stream",
          "text": [
            "Informe sua altura: 1.70\n",
            "Seu peso ideal é 65.59 Kg\n"
          ],
          "name": "stdout"
        }
      ]
    },
    {
      "cell_type": "markdown",
      "metadata": {
        "id": "TGfnvz6rd9Q3"
      },
      "source": [
        "\n",
        "13. Tendo como dado de entrada a altura (h) de uma pessoa, construa um algoritmo que calcule seu peso ideal, utilizando as seguintes fórmulas:\n",
        "    - Para homens: (72.7*h) - 58\n",
        "    - Para mulheres: (62.1*h) - 44.7"
      ]
    },
    {
      "cell_type": "code",
      "metadata": {
        "id": "OmLkbOULeKjQ",
        "colab": {
          "base_uri": "https://localhost:8080/"
        },
        "outputId": "cedcb24b-1d26-4762-aff4-ea63bc7fcc79"
      },
      "source": [
        "sexo = input('Informe o sexo: [M/F] ')\n",
        "h = float(input('Informe a altura: '))\n",
        "if(sexo == 'M' or sexo == 'm'):\n",
        "  print(f'Seu pesso ideal é {((72.7 * h) - 58):.2f} Kg')\n",
        "else:\n",
        "  print(f'Seu pesso ideal é {((62.1 * h) - 44.7):.2f} Kg')\n"
      ],
      "execution_count": null,
      "outputs": [
        {
          "output_type": "stream",
          "text": [
            "Informe o sexo: [M/F] f\n",
            "Informe a altura: 1\n",
            "Seu pesso ideal é 17.40 Kg\n"
          ],
          "name": "stdout"
        }
      ]
    },
    {
      "cell_type": "markdown",
      "metadata": {
        "id": "rUcxxTf6d_4G"
      },
      "source": [
        "\n",
        "14. João Papo-de-Pescador, homem de bem, comprou um microcomputador para controlar o rendimento diário de seu trabalho. Toda vez que ele traz um peso de peixes maior que o estabelecido pelo regulamento de pesca do estado de São Paulo (50 quilos) deve pagar uma multa de R\\$ 4,00 por quilo excedente. João precisa que você faça um programa que leia a variável peso (peso de peixes) e calcule o excesso. Gravar na variável excesso a quantidade de quilos além do limite e na variável multa o valor da multa que João deverá pagar. Imprima os dados do programa com as mensagens adequadas."
      ]
    },
    {
      "cell_type": "code",
      "metadata": {
        "id": "LacOhDYmeKAW",
        "colab": {
          "base_uri": "https://localhost:8080/"
        },
        "outputId": "d7beb28a-f4a6-46b9-c190-0463822e0db0"
      },
      "source": [
        "peso = float(input('Informe o peso de peixes pescado: '))\n",
        "if peso <= 50:\n",
        "  print('Você não atingiu os 50 Kg e não tem multa a pagar.')\n",
        "elif (peso > 50):\n",
        "    excesso = peso - 50\n",
        "    multa = 4 * excesso\n",
        "    print(f'Você ultrapassou o limite de 50 Kg em {excesso} Kg e pagará uma multa de R$ {multa}.')"
      ],
      "execution_count": null,
      "outputs": [
        {
          "output_type": "stream",
          "text": [
            "Informe o peso de peixes pescado: 80\n",
            "Você ultrapassou o limite de 50 Kg em 30.0 Kg e pagará uma multa de R$ 120.0.\n"
          ],
          "name": "stdout"
        }
      ]
    },
    {
      "cell_type": "markdown",
      "metadata": {
        "id": "XH9X194beCpW"
      },
      "source": [
        "\n",
        "15. Faça um Programa que pergunte quanto você ganha por hora e o número de horas trabalhadas no mês. Calcule e mostre o total do seu salário no referido mês, sabendo-se que são descontados 11% para o Imposto de Renda, 8% para o INSS e 5% para o sindicato, faça um programa que nos dê:\n",
        "    - salário bruto.\n",
        "    - quanto pagou ao INSS.\n",
        "    - quanto pagou ao sindicato.\n",
        "    - o salário líquido.\n",
        "    - calcule os descontos e o salário líquido, conforme a tabela abaixo:\n",
        "\n",
        "```\n",
        "            + Salário Bruto : R$\n",
        "            - IR (11%) : R$\n",
        "            - INSS (8%) : R$\n",
        "            - Sindicato ( 5%) : R$\n",
        "            = Salário Liquido : R$\n",
        "```\n",
        "> Obs.: Salário Bruto - Descontos = Salário Líquido.\n"
      ]
    },
    {
      "cell_type": "code",
      "metadata": {
        "id": "bTjIis6yeJDi",
        "colab": {
          "base_uri": "https://localhost:8080/"
        },
        "outputId": "bf4eb412-aa63-4af9-fabb-af1e5f46c47c"
      },
      "source": [
        "ganho_hora = float(input('Informe quanto você ganha por hora R$ '))\n",
        "horas_trabalhadas = float(input('Informe quantas horas trabalhadas no mês: '))\n",
        "salarioBruto = ganho_hora * horas_trabalhadas\n",
        "print(f'+ Salário Bruto: R$ {salarioBruto:.2f}')\n",
        "print(f'- IR (11%): R$ {salarioBruto * 0.11:.2f}')\n",
        "print(f'- INSS (8%): R$ {salarioBruto * 0.08:.2f}')\n",
        "print(f'- Sindicato (5%): R$ {salarioBruto * 0.05:.2f}')\n",
        "print(f'= Salário líquido: R$ {salarioBruto * 0.76:.2f}')"
      ],
      "execution_count": null,
      "outputs": [
        {
          "output_type": "stream",
          "text": [
            "Informe quanto você ganha por hora R$ 22\n",
            "Informe quantas horas trabalhadas no mês: 120\n",
            "+ Salário Bruto: R$ 2640.00\n",
            "- IR (11%): R$ 290.40\n",
            "- INSS (8%): R$ 211.20\n",
            "- Sindicato (5%): R$ 132.00\n",
            "= Salário líquido: R$ 2006.40\n"
          ],
          "name": "stdout"
        }
      ]
    },
    {
      "cell_type": "markdown",
      "metadata": {
        "id": "dQgoUp4FeEjs"
      },
      "source": [
        "\n",
        "16. Faça um programa para uma loja de tintas. O programa deverá pedir o tamanho em metros quadrados da área a ser pintada. Considere que a cobertura da tinta é de 1 litro para cada 3 metros quadrados e que a tinta é vendida em latas de 18 litros, que custam R\\$ 80,00. Informe ao usuário a quantidades de latas de tinta a serem compradas e o preço total. Obs.: somente são vendidos um número inteiro de latas."
      ]
    },
    {
      "cell_type": "code",
      "metadata": {
        "id": "BLgRrbqteIiY",
        "colab": {
          "base_uri": "https://localhost:8080/"
        },
        "outputId": "a31c5fce-2e17-49e6-80e0-16559f7240c5"
      },
      "source": [
        "area = float(input('Informe a área em m² a ser pintada: '))\n",
        "cobertura = 3 * 18\n",
        "sobra = (area / cobertura) - (area // cobertura)\n",
        "if area <= cobertura:\n",
        "  print('Você precisa de uma lata de tinta. O valor é de R$ 80,00.')\n",
        "elif (area > cobertura and sobra > 0):\n",
        "  print(f'Você precisará de {(area // cobertura) + 1} latas e vai sobrar. O valor é de R$ {((area // cobertura) + 1) * 80}')\n",
        "elif (area > cobertura and sobra == 0):\n",
        "    print(f'Você precisará exatamente de {(area // cobertura)} latas. O valor é de R$ {(area // cobertura) * 80}')\n"
      ],
      "execution_count": null,
      "outputs": [
        {
          "output_type": "stream",
          "text": [
            "Informe a área em m² a ser pintada: 108\n",
            "Você precisará exatamente de 2.0 latas. O valor é de R$ 160.0\n"
          ],
          "name": "stdout"
        }
      ]
    },
    {
      "cell_type": "markdown",
      "metadata": {
        "id": "aDlscibneF_-"
      },
      "source": [
        "\n",
        "17. Faça um Programa para uma loja de tintas. O programa deverá pedir o tamanho em metros quadrados da área a ser pintada. Considere que a cobertura da tinta é de 1 litro para cada 6 metros quadrados e que a tinta é vendida em latas de 18 litros, que custam R\\$ 80,00 ou em galões de 3,6 litros, que custam R\\$ 25,00.\n",
        "  - Informe ao usuário as quantidades de tinta a serem compradas e os respectivos preços em 3 situações:\n",
        "  - comprar apenas latas de 18 litros;\n",
        "  - comprar apenas galões de 3,6 litros;\n",
        "  - misturar latas e galões, de forma que o desperdício de tinta seja menor. Acrescente 10% de folga e sempre arredonde os valores para cima, isto é, considere latas cheias."
      ]
    },
    {
      "cell_type": "code",
      "metadata": {
        "id": "wH56ThFaeIOx",
        "colab": {
          "base_uri": "https://localhost:8080/"
        },
        "outputId": "614be2a4-029e-4009-98f4-9b8382a6faf8"
      },
      "source": [
        "area = float(input('Informe a área a ser pintada: '))\n",
        "lataCobertura = 6 * 18\n",
        "valorLata = 80.00\n",
        "galaoCobertura = 6 * 3.6\n",
        "valorGalao = 25.00\n",
        "sobraLata = (area / lataCobertura) - (area // lataCobertura)\n",
        "sobraGalao = (area / galaoCobertura) - (area // galaoCobertura)\n",
        "areaAcrescimo = area * 1.1\n",
        "if(sobraLata == 0):\n",
        "  print(f'Você precisa levar extatamente {area // lataCobertura} lata(s) de tinta. Valor R$ {(area // lataCobertura) * valorLata}.')\n",
        "else:\n",
        "  print(f'Você precisa levar {area // lataCobertura + 1} latas de tintas e terá uma sobra. Valor R$ {(area // lataCobertura + 1) * 80}')\n",
        "if(sobraGalao == 0):\n",
        "  print(f'Você precisa levar extatamente {area // galaoCobertura} galão(ões) de tinta. Valor R$ {(area // galaoCobertura) * valorGalao}.')\n",
        "else:\n",
        "  print(f'Você precisa levar {area // galaoCobertura + 1} galão(ões) de tinta e terá uma sobra. Valor R$ {(area // galaoCobertura + 1) * valorGalao}.')\n",
        "if(areaAcrescimo > 64.8) and (areaAcrescimo < 108):\n",
        "  quantidadeLata = 1\n",
        "  quantidadeGalao = 0\n",
        "else:\n",
        "  resto = areaAcrescimo % 108\n",
        "  if resto == 0:\n",
        "    quantidadeLata = areaAcrescimo // 108\n",
        "  elif resto != 0 and resto > 64.8 and resto < 108:\n",
        "    quantidadeLata = (areaAcrescimo // 108) + 1\n",
        "    quantidadeGalao = 0\n",
        "  else:\n",
        "    quantidadeLata = areaAcrescimo // 108\n",
        "    quantidadeGalao = resto if resto % 21.6 == 0 else (resto // 21.6) + 1\n",
        "print(f'Você precisa levar {quantidadeLata} lata(s) e {quantidadeGalao} galão(ões) de tinta. Valor R$ {(quantidadeLata * valorLata) + (quantidadeGalao * valorGalao)}.')"
      ],
      "execution_count": null,
      "outputs": [
        {
          "output_type": "stream",
          "text": [
            "Informe a área a ser pintada: 110\n",
            "Você precisa levar 2.0 latas de tintas e terá uma sobra. Valor R$ 160.0\n",
            "Você precisa levar 6.0 galão(ões) de tinta e terá uma sobra. Valor R$ 150.0.\n",
            "Você precisa levar 1.0 lata(s) e 1.0 galão(ões) de tinta. Valor R$ 105.0.\n"
          ],
          "name": "stdout"
        }
      ]
    },
    {
      "cell_type": "markdown",
      "metadata": {
        "id": "nsH6ogQWeHGf"
      },
      "source": [
        "\n",
        "18. Faça um programa que peça o tamanho de um arquivo para download (em MB) e a velocidade de um link de Internet (em Mbps), calcule e informe o tempo aproximado de download do arquivo usando este link (em minutos)."
      ]
    },
    {
      "cell_type": "code",
      "metadata": {
        "id": "KfQCgryMeHsf",
        "colab": {
          "base_uri": "https://localhost:8080/"
        },
        "outputId": "5bc66471-7c97-4189-93f0-1e60f805fd3a"
      },
      "source": [
        "# 8 bits equivale a 1 byte\n",
        "tamanho = float(input('Informe o tamanho do arquivo em MB: '))\n",
        "velocidade = float(input('Informe a velocidade do link em Mpps: '))\n",
        "tempo = tamanho / (velocidade / 8)\n",
        "print(f'O tempo aproximado de download do arquivo é de {tempo} segundos ou {tempo / 60} minutos')"
      ],
      "execution_count": null,
      "outputs": [
        {
          "output_type": "stream",
          "text": [
            "Informe o tamanho do arquivo em MB: 120\n",
            "Informe a velocidade do link em Mpps: 500\n",
            "O tempo aproximado de download do arquivo é de 1.92 segundos ou 0.032 minutos\n"
          ],
          "name": "stdout"
        }
      ]
    }
  ]
}