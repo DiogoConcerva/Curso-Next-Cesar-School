{
  "nbformat": 4,
  "nbformat_minor": 0,
  "metadata": {
    "colab": {
      "name": "Aula 07 - Módulos",
      "provenance": [],
      "collapsed_sections": [],
      "include_colab_link": true
    },
    "kernelspec": {
      "name": "python3",
      "display_name": "Python 3"
    },
    "language_info": {
      "name": "python"
    }
  },
  "cells": [
    {
      "cell_type": "markdown",
      "metadata": {
        "id": "view-in-github",
        "colab_type": "text"
      },
      "source": [
        "<a href=\"https://colab.research.google.com/github/DiogoConcerva/Curso-Next-Cesar-School/blob/main/Aula_07_M%C3%B3dulos.ipynb\" target=\"_parent\"><img src=\"https://colab.research.google.com/assets/colab-badge.svg\" alt=\"Open In Colab\"/></a>"
      ]
    },
    {
      "cell_type": "markdown",
      "metadata": {
        "id": "tRvcy-qw7juT"
      },
      "source": [
        "<img src=\"https://www.cesar.school/wp-content/uploads/2019/09/marca_cesar_school.png\" alt=\"drawing\" width=\"200\"/>\n",
        "\n",
        "# Python - **Aula 07**\n",
        "\n",
        "---\n",
        "\n",
        "- Módulos\n",
        "- Pacotes"
      ]
    },
    {
      "cell_type": "markdown",
      "metadata": {
        "id": "bLCeYSaCvWbu"
      },
      "source": [
        "Por mais que a linguagem Python venha com uma série de recursos que otimizam bastante o tempo de desenvolvimento dos algoritmos, ela não é completa.\n",
        "\n",
        "Há uma série de cálculos, estruturas de dados e recursos para tratar com formatos de arquivos específicos que não está disponível nativamente na linguagem.\n",
        "\n",
        "Para evitar o esforço de \"reinventar a roda\", podemos importar tais recursos desenvolvidos por outros programadores como **módulos**.\n",
        "\n",
        "Além disso, podemos criar nossos próprios módulos, que podem ser usados diversas vezes em um projeto, ou em vários projetos da mesma empresa.\n",
        "\n",
        "> Módulos são partes (blocos) de código usados para solucionar um problema como um conjunto de funções. Os módulos podem ser reutilizados em várias aplicações.\n",
        "\n",
        "https://docs.python.org/pt-br/3/tutorial/modules.html"
      ]
    },
    {
      "cell_type": "markdown",
      "metadata": {
        "id": "Rp4-v6KlivKW"
      },
      "source": [
        "## Importando Módulos / Módulo Matemático\n",
        "\n",
        "Módulos são implementados como arquivos `.py`.\n",
        "\n",
        "Para adicionar um módulo, basta usar o comando `import` seguido no nome do módulo."
      ]
    },
    {
      "cell_type": "code",
      "metadata": {
        "id": "yuxxPJpRV6Oe",
        "colab": {
          "base_uri": "https://localhost:8080/"
        },
        "outputId": "9a03a5ee-2e28-4e4e-bafc-ebdae6f93a88"
      },
      "source": [
        "# importar módulo matemático do Python\n",
        "import math as m\n",
        "\n",
        "# potenciação\n",
        "print(m.pow(2, 3))\n",
        "print(2**3)\n",
        "\n",
        "# arredondamento para cima\n",
        "print(m.ceil(2.3))\n",
        "\n",
        "# arredondamento para baixo\n",
        "print(m.trunc(2.1))"
      ],
      "execution_count": null,
      "outputs": [
        {
          "output_type": "stream",
          "text": [
            "8.0\n",
            "8\n",
            "3\n",
            "2\n"
          ],
          "name": "stdout"
        }
      ]
    },
    {
      "cell_type": "markdown",
      "metadata": {
        "id": "DbQmH9eJjlQ0"
      },
      "source": [
        "## Manipulando arquivos e pastas\n",
        "\n",
        "Na aula passada, aprendemos a criar arquivos, contudo, não conseguimos excluir um arquivo ou criar/excluir uma pasta.\n",
        "\n",
        "Isso só é possível usando o módulo `os`."
      ]
    },
    {
      "cell_type": "code",
      "metadata": {
        "id": "DWjHELVNkHsT"
      },
      "source": [
        "# importando o módulo os\n",
        "import os\n",
        "\n",
        "# removendo um arquivo\n",
        "os.remove('teste.txt')\n",
        "\n",
        "# verificando se um arquivo existe\n",
        "if os.path.exists('teste.txt'):\n",
        "  os.remove('teste.txt')\n",
        "else:\n",
        "  print('Arquivo não encontrado')\n",
        "\n",
        "# removendo uma pasta\n",
        "os.rmdir('exemplo')\n"
      ],
      "execution_count": null,
      "outputs": []
    },
    {
      "cell_type": "markdown",
      "metadata": {
        "id": "F-VFRDJXkZ0Z"
      },
      "source": [
        "## Módulos embutidos\n",
        "\n",
        "Em Python existem uma variedades de módulos embutidos (aqueles que são distribuídos junto a linguagem e não requerem instalação adicional). Cada módulo tem uma série de funções específicas.\n",
        "\n",
        "Para descobrir quais são as funções que um determinado módulo tem, é possível usar o método `dir()`.\n",
        "\n",
        "Para entender melhor como uma determinada função funciona, é possível usar o métido `help()`"
      ]
    },
    {
      "cell_type": "code",
      "metadata": {
        "id": "s0eVeC4TlGvE",
        "colab": {
          "base_uri": "https://localhost:8080/"
        },
        "outputId": "3ca7e395-72d7-42ff-9ff3-457dccbe774d"
      },
      "source": [
        "import math\n",
        "\n",
        "# exibir as funções do módulo matemático\n",
        "print(dir(math))\n",
        "\n",
        "# exibir a documentação da função trunc()\n",
        "help(math.trunc)"
      ],
      "execution_count": null,
      "outputs": [
        {
          "output_type": "stream",
          "text": [
            "['__doc__', '__loader__', '__name__', '__package__', '__spec__', 'acos', 'acosh', 'asin', 'asinh', 'atan', 'atan2', 'atanh', 'ceil', 'copysign', 'cos', 'cosh', 'degrees', 'e', 'erf', 'erfc', 'exp', 'expm1', 'fabs', 'factorial', 'floor', 'fmod', 'frexp', 'fsum', 'gamma', 'gcd', 'hypot', 'inf', 'isclose', 'isfinite', 'isinf', 'isnan', 'ldexp', 'lgamma', 'log', 'log10', 'log1p', 'log2', 'modf', 'nan', 'pi', 'pow', 'radians', 'remainder', 'sin', 'sinh', 'sqrt', 'tan', 'tanh', 'tau', 'trunc']\n",
            "Help on built-in function trunc in module math:\n",
            "\n",
            "trunc(x, /)\n",
            "    Truncates the Real x to the nearest Integral toward 0.\n",
            "    \n",
            "    Uses the __trunc__ magic method.\n",
            "\n"
          ],
          "name": "stdout"
        }
      ]
    },
    {
      "cell_type": "markdown",
      "metadata": {
        "id": "J2l4QjnXl6Uf"
      },
      "source": [
        "## Escrevendo e usando módulos\n",
        "\n",
        "Além de usar os módulos embutidos, é possível criar seus próprios módulos!\n",
        "\n",
        "Basta criar um arquivo `.py` com o nome do módulo e importa-lo usando esse nome (sem o `.py`)"
      ]
    },
    {
      "cell_type": "code",
      "metadata": {
        "id": "HgfwaoVBmhWb",
        "colab": {
          "base_uri": "https://localhost:8080/"
        },
        "outputId": "5646824a-f69b-42b6-bf04-76f9030042b6"
      },
      "source": [
        "# módulo calculadora\n",
        "import calculadora as cal\n",
        "\n",
        "print(cal.soma(10, 5))\n"
      ],
      "execution_count": null,
      "outputs": [
        {
          "output_type": "stream",
          "text": [
            "15\n"
          ],
          "name": "stdout"
        }
      ]
    },
    {
      "cell_type": "markdown",
      "metadata": {
        "id": "uEjGlYN4nfP9"
      },
      "source": [
        "## Criando pacotes\n",
        "\n",
        "Pacotes são espaços compostos por vários módulos. São como uma pasta no computador que tem arquivos relacionados a um mesmo assunto.\n",
        "\n",
        "Por exemplo, podemos imaginar um pacote chamado **matemática** que conteria vário módulos, tais como: *calculadora*, *geometria*, *probabilidade*...\n",
        "\n",
        "Para uma pasta ser considerada como pacote, em Pyhton, é necessário que haja um arquivo `__init__.py` dentro dele."
      ]
    },
    {
      "cell_type": "markdown",
      "metadata": {
        "id": "WAzOO6Heoak-"
      },
      "source": [
        "## Importando módulos de pacotes\n",
        "\n",
        "É possível usar os seguintes comandos:\n",
        "- `import`\n",
        "- `from`\n",
        "\n",
        "Também é possível adicionar apelidos aos módulos:\n",
        "\n",
        "```python\n",
        "from modulo import funcao as apelido\n",
        "from pacote import modulo as apelido\n",
        "```"
      ]
    },
    {
      "cell_type": "code",
      "metadata": {
        "id": "eo2ekobxpQtB"
      },
      "source": [
        "# from matematica import calculadora as calc\n",
        "# cria pasta matematica, cria arquivo __init__.py (OBRIGATÓRIO) e cria arquivo calculadora.py\n",
        "\n",
        "from matematica import calculadora as calc\n",
        "\n"
      ],
      "execution_count": null,
      "outputs": []
    },
    {
      "cell_type": "markdown",
      "metadata": {
        "id": "sl5ESd3hID2T"
      },
      "source": [
        "# Exercícios Fundamentais"
      ]
    },
    {
      "cell_type": "markdown",
      "metadata": {
        "id": "_bSDmd2gLzPT"
      },
      "source": [
        "1. Usuario irá infomar o valor do raio, calcule a area da circuferencia utilizando funções e pi do modulo math.\n",
        "\n",
        "a. Faça o arredondamento apartir segunda casa decimal para cima.\n",
        "\n",
        "b. Faça o arredondamento apartir terceira casa decimal para baixo."
      ]
    },
    {
      "cell_type": "markdown",
      "metadata": {
        "id": "eBnge6J1JSyi"
      },
      "source": [
        "Veja https://docs.python.org/pt-br/3/library/math.html"
      ]
    },
    {
      "cell_type": "code",
      "metadata": {
        "id": "IXJndqpTLw66",
        "colab": {
          "base_uri": "https://localhost:8080/"
        },
        "outputId": "a005b74a-0825-4b7c-b570-f68af77689bb"
      },
      "source": [
        "import math as m\n",
        "\n",
        "def area(raio):\n",
        "    a = m.pi * m.pow(raio, 2)\n",
        "    print(f'Área sem arredondamento: {a}')\n",
        "    print(f'Área com arredondamento de duas casas decimais para cima: {a:.2f}')\n",
        "    print(f'Área com arredondamento de três casas decimais para cima: {m.floor((a * 1000)) / 1000}')\n",
        "\n",
        "area(float(input('Informe o valor da raio: ')))"
      ],
      "execution_count": null,
      "outputs": [
        {
          "output_type": "stream",
          "text": [
            "Informe o valor da raio: 10\n",
            "Área sem arredondamento: 314.1592653589793\n",
            "Área com arredondamento de duas casas decimais para cima: 314.16\n",
            "Área com arredondamento de três casas decimais para cima: 314.159\n"
          ],
          "name": "stdout"
        }
      ]
    },
    {
      "cell_type": "markdown",
      "metadata": {
        "id": "DIVVngBrL1Ag"
      },
      "source": [
        "2. Faça um programa que crie uma pasta no diretorio atual do notebook e crie dentro dele um arquivo chamado, lista_de_chamada.txt, na qual devera ter 5 nomes informados pelo usuario."
      ]
    },
    {
      "cell_type": "code",
      "metadata": {
        "id": "UCmPQocwKhu1",
        "colab": {
          "base_uri": "https://localhost:8080/"
        },
        "outputId": "ee293b2a-f201-4fa4-9355-793ede3caa01"
      },
      "source": [
        "import os\n",
        "\n",
        "def criar_pasta():\n",
        "    if not os.path.exists('Aula07'):\n",
        "        os.makedirs('Aula07')\n",
        "    else:\n",
        "        print('A pasta já existe.')\n",
        "\n",
        "def criar_arquivo():\n",
        "    if not os.path.exists('Aula07/Nomes.txt'):\n",
        "        open('Aula07/Nomes.txt', 'w+')\n",
        "    else:\n",
        "        print('O arquivo já existe.')\n",
        "\n",
        "def nomes():\n",
        "    with open('Aula07/Nomes.txt', 'w+') as nome:\n",
        "        for _ in range(5):\n",
        "            nome.write(input('Informe um nome: ') + '\\n')\n",
        "            \n",
        "criar_pasta()\n",
        "criar_arquivo()\n",
        "nomes()"
      ],
      "execution_count": null,
      "outputs": [
        {
          "output_type": "stream",
          "text": [
            "Informe um nome: Pedro\n",
            "Informe um nome: Paulo\n",
            "Informe um nome: Margarida\n",
            "Informe um nome: Maria\n",
            "Informe um nome: Diogo\n"
          ],
          "name": "stdout"
        }
      ]
    },
    {
      "cell_type": "markdown",
      "metadata": {
        "id": "j7EC0wvFIAOn"
      },
      "source": [
        "# Exercícios de Aprofundamento"
      ]
    },
    {
      "cell_type": "markdown",
      "metadata": {
        "id": "j-v_sPsxLMaZ"
      },
      "source": [
        "1. Escreva um programa que pergunte nomes de alunos de uma sala de aula. O número de alunos é desconhecido, por isso o programa deve perguntar até que seja digitada a palavra “fim”. Depois, o programa deve sortear um aluno para apresentar o trabalho primeiro.\n",
        "\n",
        "Exemplo:\n",
        "```\n",
        "Digite um nome: Yann\n",
        "\n",
        "Digite um nome: Camilinha\n",
        "\n",
        "Digite um nome: Richardneydson\n",
        "\n",
        "Digite um nome: Claudiane\n",
        "\n",
        "Digite um nome: fim\n",
        "\n",
        "O primeiro aluno a apresentar será: Claudiane.\n",
        "```\n",
        "\n",
        "> **Dica veja a biblioteca random**"
      ]
    },
    {
      "cell_type": "code",
      "metadata": {
        "id": "5oh2mEpEIAwj",
        "colab": {
          "base_uri": "https://localhost:8080/"
        },
        "outputId": "b8f438b7-c9f3-4ae6-907b-9d708d82b6c9"
      },
      "source": [
        "import random\n",
        "alunos = []\n",
        "\n",
        "def inserir_alunos():\n",
        "    while True:\n",
        "        nome = input('Informe o nome do aluno: ').lower()\n",
        "        if nome == 'fim':\n",
        "            break\n",
        "        else:\n",
        "            alunos.append(nome.capitalize())\n",
        "\n",
        "def sorteio():\n",
        "    escolha = random.randint(0, len(alunos))\n",
        "    return alunos[escolha]\n",
        "\n",
        "inserir_alunos()\n",
        "print(f'O primeiro aluno a apresentar será: {sorteio()}.')"
      ],
      "execution_count": null,
      "outputs": [
        {
          "output_type": "stream",
          "text": [
            "Informe o nome do aluno: Diogo\n",
            "Informe o nome do aluno: Valentina\n",
            "Informe o nome do aluno: Gabriela\n",
            "Informe o nome do aluno: Miguel\n",
            "Informe o nome do aluno: Daniel\n",
            "Informe o nome do aluno: Bárbara\n",
            "Informe o nome do aluno: Aylla\n",
            "Informe o nome do aluno: Raminho\n",
            "Informe o nome do aluno: Ramos\n",
            "Informe o nome do aluno: fim\n",
            "O primeiro aluno a apresentar será: Raminho.\n"
          ],
          "name": "stdout"
        }
      ]
    },
    {
      "cell_type": "markdown",
      "metadata": {
        "id": "_sA2YJcVLH8P"
      },
      "source": [
        "2. Escreva um programa que receba o nome de uma sequência de times de futebol e exiba as partidas de um torneio com os times, de forma que:\n",
        "\n",
        "- As partidas devem ser geradas de forma aleatória.\n",
        "- O número de times digitados deve ser par.\n",
        "- O programa deve pedir nomes até que seja digitado “fim”\n",
        "Exemplo:\n",
        "\n",
        "Entrada:\n",
        "```\n",
        "Digite um time: Flamengo\n",
        "Digite um time: Vasco\n",
        "Digite um time: Fluminense\n",
        "Digite um time: Botafogo\n",
        "Digite um time: Bangu 2\n",
        "Digite um time: Barcelona\n",
        "Digite um time: fim\n",
        "```\n",
        "Saída:\n",
        "```\n",
        "Barcelona x Botafogo\n",
        "Fluminense x Vasco\n",
        "Bangu 2 x Flamengo\n",
        "```\n",
        "\n",
        "> **Dica veja a biblioteca random**"
      ]
    },
    {
      "cell_type": "code",
      "metadata": {
        "id": "LcrFl4kdLJQP",
        "colab": {
          "base_uri": "https://localhost:8080/"
        },
        "outputId": "e4d3de99-500a-4e9f-cb3c-3263e0e8106d"
      },
      "source": [
        "import random\n",
        "times = []\n",
        "equipes = 0\n",
        "\n",
        "def inserir_time():\n",
        "    while True:\n",
        "        time = input('Digite o nome de um time: ').lower()\n",
        "        if time == 'fim' and len(times) % 2 != 0:\n",
        "            print('A quantidade de times deve ser par, informe um nome a mais um time.')\n",
        "        elif time == 'fim' and len(times) % 2 == 0:\n",
        "            break\n",
        "        else:\n",
        "            times.append(time.capitalize())\n",
        "\n",
        "def sorteio():\n",
        "    escolha = random.randint(0, len(times) - 1)\n",
        "    time_sorteado = times[escolha]\n",
        "    times.pop(escolha)\n",
        "    return time_sorteado\n",
        "\n",
        "inserir_time()\n",
        "print('=' * 50)\n",
        "while len(times) != 0:\n",
        "    print(f'{sorteio()} X {sorteio()}')"
      ],
      "execution_count": null,
      "outputs": [
        {
          "output_type": "stream",
          "text": [
            "Digite o nome de um time: Salgueiro\n",
            "Digite o nome de um time: Nautico\n",
            "Digite o nome de um time: vasco\n",
            "Digite o nome de um time: fim\n",
            "A quantidade de times deve ser par, informe um nome a mais um time.\n",
            "Digite o nome de um time: barcelona\n",
            "Digite o nome de um time: botafogo\n",
            "Digite o nome de um time: flamengo\n",
            "Digite o nome de um time: íbis\n",
            "Digite o nome de um time: XV de Piracicaba\n",
            "Digite o nome de um time: fim\n",
            "==================================================\n",
            "Nautico X Barcelona\n",
            "Íbis X Xv de piracicaba\n",
            "Vasco X Flamengo\n",
            "Salgueiro X Botafogo\n"
          ],
          "name": "stdout"
        }
      ]
    },
    {
      "cell_type": "markdown",
      "metadata": {
        "id": "4c0FnQXZLZG3"
      },
      "source": [
        "3. Escreva um programa que implemente o jogo conhecido como **pedra, papel, tesoura**. Neste jogo, o usuário e o computador escolhem entre pedra, papel ou tesoura. Sabendo que pedra ganha de tesoura, papel ganha de pedra e tesoura ganha de papel, exiba na tela o ganhador: usuário ou computador. Para esta implementação, assuma que o número 0 representa pedra, 1 representa papel e 2 representa tesoura. O programa deve pedir para o usuário entrar com sua escolha, gerar aleatoriamente a escolha do computador, exibir a escolha e indicar o vencedor\n",
        "\n",
        "> **Dica veja a biblioteca random**"
      ]
    },
    {
      "cell_type": "code",
      "metadata": {
        "id": "8_Hv_DkALfNU",
        "colab": {
          "base_uri": "https://localhost:8080/"
        },
        "outputId": "19302369-3913-4048-9370-8c6ce151a027"
      },
      "source": [
        "import random\n",
        "l = ['Pedra', 'Papel', 'Tesoura']\n",
        "\n",
        "def escolha(usuario):\n",
        "    computador = l[random.randint(0, 2)]\n",
        "    if l[usuario] == computador:\n",
        "        print(f'Empate, você escolheu {l[usuario]} e o computador também escolheu {computador}.')\n",
        "    elif\\\n",
        "            (l[usuario] == l[0] and computador == l[2]) or \\\n",
        "                    (l[usuario] == l[1] and computador == l[0]) or\\\n",
        "                    (l[usuario] == l[2] and computador == l[1]):\n",
        "        print(f'Você ganhou, sua escolha foi {l[usuario]} e o computador {computador}.')\n",
        "    else:\n",
        "        print(f'Você perdeu, sua escolha foi {l[usuario]} e o computador {computador}.')\n",
        "\n",
        "print('''Escolha um das opções para jogar:\n",
        "0 - Pedra\n",
        "1 - Papel\n",
        "2 - Tesoura''')\n",
        "escolha(int(input('Digite sua escolha: ')))"
      ],
      "execution_count": null,
      "outputs": [
        {
          "output_type": "stream",
          "text": [
            "Escolha um das opções para jogar:\n",
            "0 - Pedra\n",
            "1 - Papel\n",
            "2 - Tesoura\n",
            "Digite sua escolha: 2\n",
            "Você ganhou, sua escolha foi Tesoura e o computador Papel.\n"
          ],
          "name": "stdout"
        }
      ]
    }
  ]
}