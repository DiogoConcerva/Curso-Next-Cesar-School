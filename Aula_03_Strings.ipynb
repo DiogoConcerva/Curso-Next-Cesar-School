{
  "nbformat": 4,
  "nbformat_minor": 0,
  "metadata": {
    "colab": {
      "name": "Aula 03 - Strings.ipynb",
      "provenance": [],
      "collapsed_sections": [],
      "include_colab_link": true
    },
    "kernelspec": {
      "name": "python3",
      "display_name": "Python 3"
    },
    "language_info": {
      "name": "python"
    }
  },
  "cells": [
    {
      "cell_type": "markdown",
      "metadata": {
        "id": "view-in-github",
        "colab_type": "text"
      },
      "source": [
        "<a href=\"https://colab.research.google.com/github/DiogoConcerva/Curso-Next-Cesar-School/blob/main/Aula_03_Strings.ipynb\" target=\"_parent\"><img src=\"https://colab.research.google.com/assets/colab-badge.svg\" alt=\"Open In Colab\"/></a>"
      ]
    },
    {
      "cell_type": "markdown",
      "metadata": {
        "id": "tRvcy-qw7juT"
      },
      "source": [
        "<img src=\"https://www.cesar.school/wp-content/uploads/2019/09/marca_cesar_school.png\" alt=\"drawing\" width=\"200\"/>\n",
        "\n",
        "# Python - **Aula 03**\n",
        "\n",
        "---\n",
        "\n",
        "- Manipulação de Strings"
      ]
    },
    {
      "cell_type": "markdown",
      "metadata": {
        "id": "w4q08h5q8Joc"
      },
      "source": [
        "## str\n",
        "\n",
        "Em Python, textos são armazenados como uma sequência de caracteres [Unicode](https://pt.wikipedia.org/wiki/Unicode). Essa seguência, conhecida como **String** é representada no Python com o tipo `str`.\n",
        "\n",
        "[ASCII](https://www.ime.usp.br/~kellyrb/mac2166_2015/tabela_ascii.html)\n",
        "\n",
        "Ex.: `'Exemplo de Texto'`\n",
        "\n",
        "Por ser uma sequência, é possivel acessar cada caracter através de um índice. Além disso, o tipo `str` fornece uma variedade de métodos de manipulação desses caracteres.\n",
        "\n",
        "Para criar uma variável `str`, é possível usar aspas simples, duplas ou \"triplas\":"
      ]
    },
    {
      "cell_type": "code",
      "metadata": {
        "id": "kV7Yrphu7SqF",
        "colab": {
          "base_uri": "https://localhost:8080/"
        },
        "outputId": "82ff685a-5881-4351-c9b0-c9a799c1392c"
      },
      "source": [
        "# Aspas simples\n",
        "sim = 'Simples'\n",
        "\n",
        "# Aspas duplas\n",
        "dup = \"Duplas\"\n",
        "\n",
        "# Aspas triplas*\n",
        "tri = '''Triplas\n",
        "podem\n",
        "ter várias\n",
        "linhas'''\n",
        "\n",
        "print(sim)\n",
        "print(dup)\n",
        "print(tri)\n",
        "print(sim[0])"
      ],
      "execution_count": null,
      "outputs": [
        {
          "output_type": "stream",
          "text": [
            "Simples\n",
            "Duplas\n",
            "Triplas\n",
            "podem\n",
            "ter várias\n",
            "linhas\n",
            "S\n"
          ],
          "name": "stdout"
        }
      ]
    },
    {
      "cell_type": "markdown",
      "metadata": {
        "id": "BrZTwMpu-FEq"
      },
      "source": [
        "## Caracteres de Escape\n",
        "\n",
        "São chamados de **caracteres de escape** marcadores usados para acessar caracteres do código Unicode. Para escreve-los, use `contra-barra + caractere`:\n",
        "\n",
        "| sintaxe | descrição |\n",
        "|---------|-----------|\n",
        "| `\\n` | Quebra de linha |\n",
        "| `\\t` | Tabulação |\n",
        "| `\\'` | Aspas simples |\n",
        "| `\\\"` | Aspas duplas |\n",
        "| `\\\\` | Contra-barra |\n",
        "\n",
        "> Obs.: A interpretação dos caracteres de escape pode ser \"desativada\" usando Raw Strings, marcadas com um `r` antes das aspas:\n",
        "```python\n",
        "text = r'Exemplo de texto\\nSem caracteres de escape'\n",
        "```"
      ]
    },
    {
      "cell_type": "code",
      "metadata": {
        "id": "NzRBt9dw99n-",
        "colab": {
          "base_uri": "https://localhost:8080/"
        },
        "outputId": "0298884b-d932-42b8-d1f1-d81ce061abac"
      },
      "source": [
        "# caracteres de escape\n",
        "print('Olá\\tDiogo')\n",
        "\n",
        "# r-strings\n",
        "print(r'Olá\\nDIogo') # r exclui os caracteres de escape\n"
      ],
      "execution_count": null,
      "outputs": [
        {
          "output_type": "stream",
          "text": [
            "Olá\tDiogo\n",
            "Olá\\nDIogo\n"
          ],
          "name": "stdout"
        }
      ]
    },
    {
      "cell_type": "markdown",
      "metadata": {
        "id": "ZxcEKfujBVqL"
      },
      "source": [
        "## Função embutida `len()`\n",
        "\n",
        "A função `len()` retorna a quantidade de itens dentro de um \"container\". Como as strings de Python são coleções de caracteres, a função `len()` quando recebe uma string, retorna a quantade de caracteres do texto.\n",
        "\n",
        "```python\n",
        "text = 'supercalifragilisticexpialidocious'\n",
        "print(len(text)) # 34\n",
        "```"
      ]
    },
    {
      "cell_type": "code",
      "metadata": {
        "id": "dK0Nos7pBsTo",
        "colab": {
          "base_uri": "https://localhost:8080/"
        },
        "outputId": "4a87fe90-ea88-465c-9880-eff53b5c69d2"
      },
      "source": [
        "text = 'supercalifragilisticexpialidocious'\n",
        "print(len(text)) # 34"
      ],
      "execution_count": null,
      "outputs": [
        {
          "output_type": "stream",
          "text": [
            "34\n"
          ],
          "name": "stdout"
        }
      ]
    },
    {
      "cell_type": "markdown",
      "metadata": {
        "id": "lAD8Fh2NCzIL"
      },
      "source": [
        "## Indexaçaõ de Strings\n",
        "\n",
        "<!--![Hello](https://developers.google.com/edu/python/images/hello.png)-->\n",
        "\n",
        "|P|y|t|h|o|n|\n",
        "|-|-|-|-|-|-|\n",
        "|0|1|2|3|4|5|6|\n",
        "|-6|-5|-4|-3|-2|-1|\n",
        "\n",
        "Cada caractere dentro de uma string pode ser acessado pela sua posição (índice). Esse *index* pode ser positivo ou negativo.\n",
        "\n",
        "```python\n",
        "py = 'Python'\n",
        "py[3] # h\n",
        "```\n",
        "\n",
        "Além de um caractere específico acessado pela posição, é possível acessar fazer o *fatiamento*. Fatiar permite que você obtenha *substring*:\n",
        "\n",
        "```python\n",
        "py[0:2] # caracteres da posição 0 (incluído) até 2 (excluído)\n",
        "py[2:5] # caracteres da posição 2 (incluído) até 5 (excluído)\n",
        "```\n",
        "\n",
        "Ainda existe uma outra notação que permite acessar substrings de uma posição até outra determinando o passo:\n",
        "\n",
        "```python\n",
        "text = 'Só sei que nada sei'\n",
        "text[0:20:2] # caracteres da posição 0 (incluído) até 20 (excluído), passo 2\n",
        "```\n",
        "\n",
        "> Obs.: Não existe um tipo \"caractere\". Em Python um caracter é uma string que possui tamanho 1."
      ]
    },
    {
      "cell_type": "code",
      "metadata": {
        "id": "HGPH61z6GE4s",
        "colab": {
          "base_uri": "https://localhost:8080/"
        },
        "outputId": "1f61bfb7-ece8-46a9-c76a-0958fbb1993d"
      },
      "source": [
        "text = 'Esse é um exemplo da hora!'\n",
        "# Posição por index\n",
        "print(text[2])\n",
        "print(text[-1])\n",
        "\n",
        "# Substring\n",
        "print(text[0:4])\n",
        "\n",
        "\n",
        "# Substring com passo\n",
        "print(text[0:10:2])\n",
        "print(text[::2])\n",
        "\n",
        "# Substring invertida com passo\n",
        "print(text[::-2])\n",
        "\n"
      ],
      "execution_count": null,
      "outputs": [
        {
          "output_type": "stream",
          "text": [
            "s\n",
            "!\n",
            "Esse\n",
            "Es  m\n",
            "Es  meepod oa\n",
            "!rha lmx uées\n"
          ],
          "name": "stdout"
        }
      ]
    },
    {
      "cell_type": "markdown",
      "metadata": {
        "id": "0T9hcreaHoIb"
      },
      "source": [
        "## str.find()\n",
        "\n",
        "Retorna a posição de uma determinada substring procurada.\n",
        "\n",
        "Se o valor retornado for:\n",
        "- `>= 0` : Substring encontrado numa posição específica\n",
        "- `< 0` : Substring não encontrado"
      ]
    },
    {
      "cell_type": "code",
      "metadata": {
        "id": "kCyw4bQsHxfp",
        "colab": {
          "base_uri": "https://localhost:8080/"
        },
        "outputId": "337425c6-a75f-4767-c3a2-d5b4f7d4a760"
      },
      "source": [
        "print('Olá meu Diogo meu nome é Diogo'.find('Diogo'))\n",
        "print('Olá meu Diogo meu nome é Diogo'.find('Diogo', 9))"
      ],
      "execution_count": null,
      "outputs": [
        {
          "output_type": "stream",
          "text": [
            "8\n",
            "25\n"
          ],
          "name": "stdout"
        }
      ]
    },
    {
      "cell_type": "markdown",
      "metadata": {
        "id": "PfIqf0E0IYoT"
      },
      "source": [
        "## str.count()\n",
        "\n",
        "Retorna a quantidade de ocorrências de determinada substring."
      ]
    },
    {
      "cell_type": "code",
      "metadata": {
        "id": "JuXSls5wJNU0",
        "colab": {
          "base_uri": "https://localhost:8080/"
        },
        "outputId": "5c86cd97-441a-447c-bbeb-48fdfeecebee"
      },
      "source": [
        "texto = 'Olá meu Diogo meu nome é Diogo'\n",
        "print(texto.count('Diogo'))"
      ],
      "execution_count": null,
      "outputs": [
        {
          "output_type": "stream",
          "text": [
            "2\n"
          ],
          "name": "stdout"
        }
      ]
    },
    {
      "cell_type": "markdown",
      "metadata": {
        "id": "xz5Cg49fJP_M"
      },
      "source": [
        "## Operações com Strings\n",
        "\n",
        "> ⚠ Strings em Python são imutáveis, o que signifca que atribuir um valor a uma posição indexada irá resultar em um erro.\n",
        "\n",
        "Os seguintes operadores podem ser usados com strings:\n",
        "\n",
        "- `+` - Concatenação\n",
        "- `*` - Repetição"
      ]
    },
    {
      "cell_type": "code",
      "metadata": {
        "id": "aSMaMv76M7w-",
        "colab": {
          "base_uri": "https://localhost:8080/",
          "height": 86
        },
        "outputId": "1e33c0e9-146d-4efc-a035-48bf474d4f51"
      },
      "source": [
        "nome = 'Diogo'\n",
        "nome += ' Concerva'\n",
        "print(nome)\n",
        "nome = nome + ' esta fazendo Next'\n",
        "print(nome)\n",
        "print(nome * 3)\n",
        "\n",
        "# Não posso fazer\n",
        "'''nome[1] = y'''"
      ],
      "execution_count": null,
      "outputs": [
        {
          "output_type": "stream",
          "text": [
            "Diogo Concerva\n",
            "Diogo Concerva esta fazendo Next\n",
            "Diogo Concerva esta fazendo NextDiogo Concerva esta fazendo NextDiogo Concerva esta fazendo Next\n"
          ],
          "name": "stdout"
        },
        {
          "output_type": "execute_result",
          "data": {
            "application/vnd.google.colaboratory.intrinsic+json": {
              "type": "string"
            },
            "text/plain": [
              "'nome[1] = y'"
            ]
          },
          "metadata": {
            "tags": []
          },
          "execution_count": 5
        }
      ]
    },
    {
      "cell_type": "markdown",
      "metadata": {
        "id": "7HX9iZyjM-F7"
      },
      "source": [
        "## str.lower() e str.upper()\n",
        "\n",
        "- `.lower()` - Retorna uma nova string com caracteres em minúsculo\n",
        "- `.upper()` - Retorna uma nova string com caracteres em maiúsculo"
      ]
    },
    {
      "cell_type": "code",
      "metadata": {
        "id": "jqhQ9-IpNd5L",
        "colab": {
          "base_uri": "https://localhost:8080/"
        },
        "outputId": "592435e8-ca66-4e22-f9d2-ed6a8ca2f8b0"
      },
      "source": [
        "ex = 'Um texto como exemplo'\n",
        "print(ex.lower())\n",
        "print(ex.upper())"
      ],
      "execution_count": null,
      "outputs": [
        {
          "output_type": "stream",
          "text": [
            "um texto como exemplo\n",
            "UM TEXTO COMO EXEMPLO\n"
          ],
          "name": "stdout"
        }
      ]
    },
    {
      "cell_type": "markdown",
      "metadata": {
        "id": "gqZS8743HcmT"
      },
      "source": [
        "## f-Strings\n",
        "\n",
        "> formatted string literals\n",
        "\n",
        "```python\n",
        "name = 'Erick'\n",
        "print(f'Meu nome é {name}')\n",
        "```\n"
      ]
    },
    {
      "cell_type": "code",
      "metadata": {
        "id": "WPltXEA3HetE",
        "colab": {
          "base_uri": "https://localhost:8080/"
        },
        "outputId": "21c4d91c-8ac2-4e84-8605-f282882474e3"
      },
      "source": [
        "nome = 'Diogo'\n",
        "print(f'Meu nome é {nome}')"
      ],
      "execution_count": null,
      "outputs": [
        {
          "output_type": "stream",
          "text": [
            "Meu nome é Diogo\n"
          ],
          "name": "stdout"
        }
      ]
    },
    {
      "cell_type": "markdown",
      "metadata": {
        "id": "PN-C0mXFNeR0"
      },
      "source": [
        "## str.split()\n",
        "\n",
        "Retorna uma lista de substrings dividido por um separador. Se nenhum parâmetro for passado, o separador (ou delimitador) adotado é o espaço em branco."
      ]
    },
    {
      "cell_type": "code",
      "metadata": {
        "id": "YD3qFXcHN83D",
        "colab": {
          "base_uri": "https://localhost:8080/"
        },
        "outputId": "2fca651b-0f76-4097-9f57-e4e92988d967"
      },
      "source": [
        "ex = 'Esse é um exemplo de split'\n",
        "lista = ex.split()\n",
        "print(ex.split())\n",
        "print(lista[3])"
      ],
      "execution_count": null,
      "outputs": [
        {
          "output_type": "stream",
          "text": [
            "['Esse', 'é', 'um', 'exemplo', 'de', 'split']\n",
            "exemplo\n"
          ],
          "name": "stdout"
        }
      ]
    },
    {
      "cell_type": "markdown",
      "metadata": {
        "id": "42qxIR7TOZ_G"
      },
      "source": [
        "## str.replace()\n",
        "\n",
        "Retorna uma nova string com um texto substituído por outro.\n",
        "\n",
        "```python\n",
        "str.replace('old', 'new')\n",
        "```"
      ]
    },
    {
      "cell_type": "code",
      "metadata": {
        "id": "YTqjBSxxO1Sl",
        "colab": {
          "base_uri": "https://localhost:8080/"
        },
        "outputId": "e92f095d-f636-42d8-b0f3-e5d7c71a1193"
      },
      "source": [
        "nome = 'DyogoConcervaDyogo'\n",
        "print(nome.replace('Dyogo', 'Diego').replace('Concerva', 'Conserva'))"
      ],
      "execution_count": null,
      "outputs": [
        {
          "output_type": "stream",
          "text": [
            "DiegoConservaDiego\n"
          ],
          "name": "stdout"
        }
      ]
    },
    {
      "cell_type": "markdown",
      "metadata": {
        "id": "8jYfr3e9HNiU"
      },
      "source": [
        "## str.isdigit()\n",
        "\n",
        "Retorna `True` se todos os caracteres da string forem números.\n",
        "\n",
        "```python\n",
        "str.isdigit('103')\n",
        "```"
      ]
    },
    {
      "cell_type": "code",
      "metadata": {
        "id": "0mCscST_HXTU",
        "colab": {
          "base_uri": "https://localhost:8080/"
        },
        "outputId": "b47142a1-4836-44f2-8955-1c205f18a34b"
      },
      "source": [
        "print('3'.isdigit())\n",
        "print('10.0'.isdigit())"
      ],
      "execution_count": null,
      "outputs": [
        {
          "output_type": "stream",
          "text": [
            "True\n",
            "False\n"
          ],
          "name": "stdout"
        }
      ]
    },
    {
      "cell_type": "markdown",
      "metadata": {
        "id": "Leg8dXP8-S4K"
      },
      "source": [
        "# Exercícios Fundamentais"
      ]
    },
    {
      "cell_type": "markdown",
      "metadata": {
        "id": "U1alCDlOLkdM"
      },
      "source": [
        "1. Escreva um programa que verifique se determinada entrada de usuário é um número. Considere válido números interios e reais, positivos e negativos, como: `10`, `-20`, `103.0`, `-12.5`"
      ]
    },
    {
      "cell_type": "code",
      "metadata": {
        "id": "l1fwmi56LnqC",
        "colab": {
          "base_uri": "https://localhost:8080/"
        },
        "outputId": "93cfd1a9-a125-4c8b-8622-4c57848e7500"
      },
      "source": [
        "num = input('Digite uma valor: ')\n",
        "try:\n",
        "  float(num)\n",
        "  print('Número válido')\n",
        "except:\n",
        "  print('Número inválido')\n",
        "  \n"
      ],
      "execution_count": null,
      "outputs": [
        {
          "output_type": "stream",
          "text": [
            "Digite uma valor: 1,6\n",
            "Número inválido\n"
          ],
          "name": "stdout"
        }
      ]
    },
    {
      "cell_type": "markdown",
      "metadata": {
        "id": "cbHjfaFBD1iv"
      },
      "source": [
        "2. Faça um programa que leia uma string e a imprima."
      ]
    },
    {
      "cell_type": "code",
      "metadata": {
        "id": "ueshYTIsD1C3",
        "colab": {
          "base_uri": "https://localhost:8080/"
        },
        "outputId": "a1d232b5-b557-4311-c842-0dd563ce2948"
      },
      "source": [
        "entrada = input('Digite algo: ')\n",
        "print(f'Você digitou: {entrada}')"
      ],
      "execution_count": null,
      "outputs": [
        {
          "output_type": "stream",
          "text": [
            "Digite algo: teste\n",
            "Você digitou: teste\n"
          ],
          "name": "stdout"
        }
      ]
    },
    {
      "cell_type": "markdown",
      "metadata": {
        "id": "2l-QrkDjD3Xm"
      },
      "source": [
        "3. Crie um programa que imprima o comprimento de uma string."
      ]
    },
    {
      "cell_type": "code",
      "metadata": {
        "id": "3pTXbzeZD3_O",
        "colab": {
          "base_uri": "https://localhost:8080/"
        },
        "outputId": "7d3deea9-d7c4-4e2f-c245-89ad787b78a4"
      },
      "source": [
        "# python -> 6\n",
        "entrada = input('Digite algo para eu informar o comprimento: ')\n",
        "print(f'A palavra {entrada} tem tamanho {len(entrada)}')\n",
        "\n"
      ],
      "execution_count": null,
      "outputs": [
        {
          "output_type": "stream",
          "text": [
            "Digite algo para eu informar o comprimento: python\n",
            "A palavra python tem tamanho 6\n"
          ],
          "name": "stdout"
        }
      ]
    },
    {
      "cell_type": "markdown",
      "metadata": {
        "id": "GJ-8wiZfD6B2"
      },
      "source": [
        "4. Crie um programa que compara duas strings."
      ]
    },
    {
      "cell_type": "code",
      "metadata": {
        "id": "zVZfJB1TD6O_",
        "colab": {
          "base_uri": "https://localhost:8080/"
        },
        "outputId": "c8072bcf-ac7b-413c-be6e-bc9bff49e8cc"
      },
      "source": [
        "# python é igual python ?\n",
        "entrada1 = input('Informe a primeira string para comparação: ')\n",
        "entrada2 = input('Informe a segunda string para comparação: ')\n",
        "if(entrada1 == entrada2):\n",
        "  print(f'{entrada1} é igual a {entrada2}')\n",
        "else:\n",
        "  print(f'{entrada1} é diferente de {entrada2}')"
      ],
      "execution_count": null,
      "outputs": [
        {
          "output_type": "stream",
          "text": [
            "Informe a primeira string para comparação: diogo\n",
            "Informe a segunda string para comparação: Diogo\n",
            "diogo é diferente de Diogo\n"
          ],
          "name": "stdout"
        }
      ]
    },
    {
      "cell_type": "markdown",
      "metadata": {
        "id": "vgmwilBtEN7k"
      },
      "source": [
        "5. Faça um programa que leia um nome e imprima as 4 primeiras letras do nome."
      ]
    },
    {
      "cell_type": "code",
      "metadata": {
        "id": "aBG8au6GEOr1",
        "colab": {
          "base_uri": "https://localhost:8080/"
        },
        "outputId": "ebc036b5-7edc-4cdc-e310-e2b3828c1fc6"
      },
      "source": [
        "# python -> pyth\n",
        "entrada = input('Informe uma string: ')\n",
        "print(f'A string {entrada} tem as 4 primeiras letras {entrada[0:4]}')\n"
      ],
      "execution_count": null,
      "outputs": [
        {
          "output_type": "stream",
          "text": [
            "Informe uma string:python\n",
            "A string python tem as 4 primeiras letras pyth\n"
          ],
          "name": "stdout"
        }
      ]
    },
    {
      "cell_type": "markdown",
      "metadata": {
        "id": "0vmlOK_jEffg"
      },
      "source": [
        "6. Escreva um programa que substitui as ocorrencias de um caractere 0 em uma string por outro caractere 1."
      ]
    },
    {
      "cell_type": "code",
      "metadata": {
        "id": "Bbkx8pbbEgGI",
        "colab": {
          "base_uri": "https://localhost:8080/"
        },
        "outputId": "585daa60-915e-4bbd-c6f3-23fc65b69201"
      },
      "source": [
        "# 010101 -> 111111\n",
        "entrada = input('Entre com uma string que contenha 0: ')\n",
        "print('Substituindo 0 por 1: ', entrada.replace('0', '1'))\n"
      ],
      "execution_count": null,
      "outputs": [
        {
          "output_type": "stream",
          "text": [
            "Entre com uma string que contenha 0: 01200365480\n",
            "Substituindo 0 por 1:  11211365481\n"
          ],
          "name": "stdout"
        }
      ]
    },
    {
      "cell_type": "markdown",
      "metadata": {
        "id": "j90EEiCEEgux"
      },
      "source": [
        "7. Entre com um nome e imprima o nome somente se a primeira letra do nome for “a” (maiuscula ou minuscula)."
      ]
    },
    {
      "cell_type": "code",
      "metadata": {
        "id": "irUDOxPNEjPC",
        "colab": {
          "base_uri": "https://localhost:8080/"
        },
        "outputId": "9237e50d-e70e-44dc-d956-abb8f50b0222"
      },
      "source": [
        "nome = input('Digite um nome: ')\n",
        "if(nome[0] == 'a' or nome[0] == 'A'):\n",
        "  print(nome)\n",
        "else:\n",
        "  print('Não inicia com A ou a')"
      ],
      "execution_count": null,
      "outputs": [
        {
          "output_type": "stream",
          "text": [
            "Digite um nome: Diogo\n",
            "Não inicia com A ou a\n"
          ],
          "name": "stdout"
        }
      ]
    },
    {
      "cell_type": "markdown",
      "metadata": {
        "id": "BstVdrmYEjZp"
      },
      "source": [
        "8. Faça um programa que receba do usuario uma string. O programa imprime a string sem suas vogais."
      ]
    },
    {
      "cell_type": "code",
      "metadata": {
        "id": "bZD3iQG5EqiY",
        "colab": {
          "base_uri": "https://localhost:8080/"
        },
        "outputId": "55f7dbad-5114-465e-8cf6-4698ce3182dd"
      },
      "source": [
        "entrada = input('Informe uma string: ')\n",
        "print(entrada.replace('a', '').replace('e', '').replace('i', '').replace('o', '').replace('u', ''))\n"
      ],
      "execution_count": null,
      "outputs": [
        {
          "output_type": "stream",
          "text": [
            "Informe uma string: Diogo\n",
            "Dg\n"
          ],
          "name": "stdout"
        }
      ]
    },
    {
      "cell_type": "markdown",
      "metadata": {
        "id": "_Z0PwCJXEqxM"
      },
      "source": [
        "9. Faça um programa em que troque todas as ocorrencias de uma letra L1 pela letra L2 em uma string. A string e as letras L1 e L2 devem ser fornecidas pelo usuario."
      ]
    },
    {
      "cell_type": "code",
      "metadata": {
        "id": "QjX_42aQFIOe",
        "colab": {
          "base_uri": "https://localhost:8080/"
        },
        "outputId": "0a9cae14-23ec-4346-cc54-8b52806098e7"
      },
      "source": [
        "texto = input('Digite algo: ')\n",
        "l1 = input('Informe a letra que deseja retirar: ')\n",
        "l2 = input('Informe por qual letra deseja substituir: ')\n",
        "print('O texto com as letras trocadas fica: ', texto.replace(l1, l2))"
      ],
      "execution_count": null,
      "outputs": [
        {
          "output_type": "stream",
          "text": [
            "Digite algo: diogo andrade\n",
            "Informe a letra que deseja retirar: d\n",
            "Informe por qual letra deseja substituir: x\n",
            "O texto com as letras trocadas fica:  xiogo anxraxe\n"
          ],
          "name": "stdout"
        }
      ]
    },
    {
      "cell_type": "markdown",
      "metadata": {
        "id": "YY-qlVJB-VDV"
      },
      "source": [
        "# Exercícios de Aprofundamento"
      ]
    },
    {
      "cell_type": "markdown",
      "metadata": {
        "id": "DDF__ihbEBVr"
      },
      "source": [
        "1. Faça um programa para converter uma letra maiuscula em letra minuscula. Use a tabela ASCII para resolver o problema."
      ]
    },
    {
      "cell_type": "code",
      "metadata": {
        "id": "QOBeBJWKEAm8",
        "colab": {
          "base_uri": "https://localhost:8080/"
        },
        "outputId": "a41848c4-b90c-499e-85b9-d1186354fdd6"
      },
      "source": [
        "# ord corresponde ao número\n",
        "# chr corresponde a letra\n",
        "\n",
        "letra = input('Digite uma letra: ')\n",
        "corresponde = ord(letra) + 32\n",
        "print(chr(corresponde))"
      ],
      "execution_count": null,
      "outputs": [
        {
          "output_type": "stream",
          "text": [
            "Digite uma letra: D\n",
            "d\n"
          ],
          "name": "stdout"
        }
      ]
    },
    {
      "cell_type": "markdown",
      "metadata": {
        "id": "Yh7VBKntEA1c"
      },
      "source": [
        "2. Ler nome, sexo e idade. Se sexo for feminino e idade menor que 25, imprime o nome da pessoa e a palavra “ACEITA”, caso contrario imprimir “NÃO ACEITA”."
      ]
    },
    {
      "cell_type": "code",
      "metadata": {
        "id": "NEccKb6KEWyF",
        "colab": {
          "base_uri": "https://localhost:8080/"
        },
        "outputId": "cec5dc91-4e8f-424c-b766-520cecde7e59"
      },
      "source": [
        "nome = input('Nome: ')\n",
        "sexo = input('Sexo [M/F]: ').upper()\n",
        "idade = int(input('Idade: '))\n",
        "if(sexo == 'F' and idade < 25):\n",
        "  print(nome, '\\\"ACEITA\\\"')\n",
        "else:\n",
        "  print('\\\"NÃO ACEITA\\\"')"
      ],
      "execution_count": null,
      "outputs": [
        {
          "output_type": "stream",
          "text": [
            "Nome: Maria\n",
            "Sexo [M/F]: f\n",
            "Idade: 24\n",
            "Maria \"ACEITA\"\n"
          ],
          "name": "stdout"
        }
      ]
    },
    {
      "cell_type": "markdown",
      "metadata": {
        "id": "1Moz3Zx-EXE5"
      },
      "source": [
        "3. Faça um programa que conte o numero de 1's que aparecem em um string. Exemplo: \n",
        "\n",
        "0011001 -> 3"
      ]
    },
    {
      "cell_type": "code",
      "metadata": {
        "id": "_rikXdioEa45",
        "colab": {
          "base_uri": "https://localhost:8080/"
        },
        "outputId": "fe9b69b0-0891-4331-b862-14c677daf50d"
      },
      "source": [
        "entrada = input('Entre com uma string: ')\n",
        "print(f'A string {entrada} tem',entrada.count('1'),'número(s) 1.')"
      ],
      "execution_count": null,
      "outputs": [
        {
          "output_type": "stream",
          "text": [
            "Entre com uma string: 1111111111\n",
            "A string 1111111111 tem 10 número(s) 1.\n"
          ],
          "name": "stdout"
        }
      ]
    },
    {
      "cell_type": "markdown",
      "metadata": {
        "id": "Qndx5ui-EnyQ"
      },
      "source": [
        "4. Faça um programa que receba uma palavra e a imprima de tras-para-frente."
      ]
    },
    {
      "cell_type": "code",
      "metadata": {
        "id": "lvAMDSv4EoLn",
        "colab": {
          "base_uri": "https://localhost:8080/"
        },
        "outputId": "fa2da90d-0fdf-4efa-ac3f-40e420a29237"
      },
      "source": [
        "palavra = input('Digite uma palavra: ')\n",
        "print(f'A palavra {palavra} de tras-para-frente fica',palavra[::-1])"
      ],
      "execution_count": null,
      "outputs": [
        {
          "output_type": "stream",
          "text": [
            "Digite uma palavra: Valentina\n",
            "A palavra Valentina de tras-para-frente fica anitnelaV\n"
          ],
          "name": "stdout"
        }
      ]
    },
    {
      "cell_type": "markdown",
      "metadata": {
        "id": "zkMtGHOrEtXx"
      },
      "source": [
        "5. Faça um programa que receba uma palavra e calcule quantas vogais (a, e, i, o, u) possui essa palavra. Entre com um caractere (vogal ou consoante) e substitua todas as vogais da palavra dada por esse caractere."
      ]
    },
    {
      "cell_type": "code",
      "metadata": {
        "id": "o_yqagj2Et4Q",
        "colab": {
          "base_uri": "https://localhost:8080/"
        },
        "outputId": "7800ef0e-5d00-45b7-c35c-e48a88dc2923"
      },
      "source": [
        "palavra = input('Digite uma palavra: ')\n",
        "print('a -',palavra.count('a'),'\\ne -',palavra.count('e'),'\\ni -',palavra.count('i'),'\\no -',palavra.count('o'),'\\nu -',palavra.count('u'))\n",
        "substituicao = input('Entre com um caractere (vogal ou consoante) para substituir por todas as vogais: ')\n",
        "print(palavra.replace('a', substituicao).replace('e', substituicao).replace('i', substituicao).replace('o', substituicao).replace('u', substituicao))"
      ],
      "execution_count": null,
      "outputs": [
        {
          "output_type": "stream",
          "text": [
            "Digite uma palavra: uruguaiana\n",
            "a - 3 \n",
            "e - 0 \n",
            "i - 1 \n",
            "o - 0 \n",
            "u - 3\n",
            "Entre com um caractere (vogal ou consoante) para substituir por todas as vogais: e\n",
            "eregeeeene\n"
          ],
          "name": "stdout"
        }
      ]
    },
    {
      "cell_type": "markdown",
      "metadata": {
        "id": "gdKlAXLHEwnv"
      },
      "source": [
        "6. Ler uma frase e contar quantos caracteres sao brancos. Lembre-se que uma frase e um conjunto de caracteres (vetor)."
      ]
    },
    {
      "cell_type": "code",
      "metadata": {
        "id": "GR6PBJAyExT2",
        "colab": {
          "base_uri": "https://localhost:8080/"
        },
        "outputId": "4afc6aeb-fb8a-483a-a3e3-41a2341f1410"
      },
      "source": [
        "frase = input('Digite uma frase: ')\n",
        "print('Há',frase.count(' '), 'caracteres em branco.')"
      ],
      "execution_count": null,
      "outputs": [
        {
          "output_type": "stream",
          "text": [
            "Digite uma frase: diogo andrade concerva\n",
            "Há 2 caracteres em branco.\n"
          ],
          "name": "stdout"
        }
      ]
    },
    {
      "cell_type": "markdown",
      "metadata": {
        "id": "7EV-Ig4ME1eZ"
      },
      "source": [
        "7. Faça um programa que leia uma palavra e some 1 no valor ASCII de cada caractere da\n",
        "palavra. Imprima a string resultante."
      ]
    },
    {
      "cell_type": "code",
      "metadata": {
        "id": "goY3XWSPE2Bi",
        "colab": {
          "base_uri": "https://localhost:8080/"
        },
        "outputId": "6954234a-0be6-496e-9615-389522e738d9"
      },
      "source": [
        "# ord corresponde ao número\n",
        "# chr corresponde a letra\n",
        "\n",
        "palavra = input('Informe uma palavra: ')\n",
        "for c in range(0, len(palavra)):\n",
        "  alteracao = ord(palavra[c]) + 1\n",
        "  print(chr(alteracao), end='')\n"
      ],
      "execution_count": null,
      "outputs": [
        {
          "output_type": "stream",
          "text": [
            "Informe uma palavra: Valentina\n",
            "Wbmfoujob"
          ],
          "name": "stdout"
        }
      ]
    },
    {
      "cell_type": "markdown",
      "metadata": {
        "id": "sc2Y5wRdE7Qv"
      },
      "source": [
        "8. Leia uma cadeia de caracteres e converta todos os caracteres para maiuscula. \n",
        "Dica:\n",
        "subtraia 32 dos caracteres cujo codigo ASCII esta entre 65 e 90. "
      ]
    },
    {
      "cell_type": "code",
      "metadata": {
        "id": "cHlW15vSE70P",
        "colab": {
          "base_uri": "https://localhost:8080/"
        },
        "outputId": "a6fa82f2-cd3d-462d-e293-559f3db1fc58"
      },
      "source": [
        "# ord corresponde ao número\n",
        "# chr corresponde a letra\n",
        "\n",
        "dados = input('Informe uma cadeia de caracteres: ').lower()\n",
        "for c in range(0, len(dados)):\n",
        "  maiusculo = ord(dados[c]) - 32\n",
        "  print(chr(maiusculo), end='')"
      ],
      "execution_count": null,
      "outputs": [
        {
          "output_type": "stream",
          "text": [
            "Informe uma cadeia de caracteres: nautico\n",
            "NAUTICO"
          ],
          "name": "stdout"
        }
      ]
    },
    {
      "cell_type": "markdown",
      "metadata": {
        "id": "BFl0gSmQE-XW"
      },
      "source": [
        "9. Escreva um programa para converter uma cadeia de caracteres de letras maiusculas em letras minusculas."
      ]
    },
    {
      "cell_type": "code",
      "metadata": {
        "id": "dnh8mPVLE-6w",
        "colab": {
          "base_uri": "https://localhost:8080/"
        },
        "outputId": "bfee16ad-6dbb-4486-b98a-15ca2a22499f"
      },
      "source": [
        "palavra = input('Informe uma palavra ou frase: ')\n",
        "print(f'Em maiuscula: {palavra.upper()}')\n",
        "print(f'Em minuscula: {palavra.lower()}')"
      ],
      "execution_count": null,
      "outputs": [
        {
          "output_type": "stream",
          "text": [
            "Informe uma palavra ou frase: agOra É a hora\n",
            "Em maiuscula: AGORA É A HORA\n",
            "Em minuscula: agora é a hora\n"
          ],
          "name": "stdout"
        }
      ]
    },
    {
      "cell_type": "markdown",
      "metadata": {
        "id": "0sHIsMBUFBpO"
      },
      "source": [
        "10. Leia um vetor contendo letras de uma frase inclusive os espaços em branco. Retirar os espaços em branco do vetor e depois escrever o vetor resultante."
      ]
    },
    {
      "cell_type": "code",
      "metadata": {
        "id": "WcSEYvZOFCFK",
        "colab": {
          "base_uri": "https://localhost:8080/"
        },
        "outputId": "0ceeb586-e788-47b7-b0e2-16748fb97498"
      },
      "source": [
        "frase = input('Informe uma frase para análise: ')\n",
        "print('A frase sem espaço corresponde a: ',frase.replace(' ', ''))"
      ],
      "execution_count": null,
      "outputs": [
        {
          "output_type": "stream",
          "text": [
            "Informe uma frase para análise: Diogo Andrade Concerva\n",
            "A frase sem espaço corresponde a:  DiogoAndradeConcerva\n"
          ],
          "name": "stdout"
        }
      ]
    }
  ]
}