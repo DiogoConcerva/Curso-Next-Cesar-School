{
  "nbformat": 4,
  "nbformat_minor": 0,
  "metadata": {
    "colab": {
      "name": "Aula 02 - Operadores Lógicos e Estrutura Condicional.ipynb",
      "provenance": [],
      "collapsed_sections": [],
      "include_colab_link": true
    },
    "kernelspec": {
      "name": "python3",
      "display_name": "Python 3"
    }
  },
  "cells": [
    {
      "cell_type": "markdown",
      "metadata": {
        "id": "view-in-github",
        "colab_type": "text"
      },
      "source": [
        "<a href=\"https://colab.research.google.com/github/DiogoConcerva/Curso-Next-Cesar-School/blob/main/Aula_02_Operadores_L%C3%B3gicos_e_Estrutura_Condicional.ipynb\" target=\"_parent\"><img src=\"https://colab.research.google.com/assets/colab-badge.svg\" alt=\"Open In Colab\"/></a>"
      ]
    },
    {
      "cell_type": "markdown",
      "metadata": {
        "id": "9ujEVvoCTM6p"
      },
      "source": [
        "<img src=\"https://www.cesar.school/wp-content/uploads/2019/09/marca_cesar_school.png\" alt=\"drawing\" width=\"200\"/>\n",
        "\n",
        "# Python - **Aula 02**\n",
        "\n",
        "---\n",
        "\n",
        "- Entender conceitos básicos sobre programação;\n",
        "- Conhecer a linguagem Python;\n",
        "- Criar seu primeiro programa em Python;\n"
      ]
    },
    {
      "cell_type": "markdown",
      "metadata": {
        "id": "zAWgCzEXyWGU"
      },
      "source": [
        "# Operadores Lógicos"
      ]
    },
    {
      "cell_type": "markdown",
      "metadata": {
        "id": "rzDS1hUgwxsN"
      },
      "source": [
        "## Operadores Relacionais\n",
        "\n",
        "Uma condição é o estabelecimento de uma relação lógica entre dois elementos. Para definir uma relação lógica é necessário usar operadores relacionais. Uma relação lógica (comparação) retorna somente os valores verdadeiro ou falso.\n",
        "\n",
        "* Igual a: `x == y`\n",
        "* Maior que: `x > y`\n",
        "* Menor que: `x < y`\n",
        "* Maior ou igual a: `x >= y`\n",
        "* Menor ou igual a: `x <= y`\n",
        "* Diferente de: `x != y`"
      ]
    },
    {
      "cell_type": "code",
      "metadata": {
        "id": "LrgPw5AZWYBY",
        "colab": {
          "base_uri": "https://localhost:8080/"
        },
        "outputId": "6e9db7f2-723f-4c68-8cf1-1b646c808379"
      },
      "source": [
        "print(10 == 10)\n",
        "print(10 > 11)\n",
        "print(10 < 11)\n",
        "print('Diogo' >= 'Valen') # Pega a ordem alfabetica\n",
        "print(10 <= 9)\n",
        "print(10 != 10)"
      ],
      "execution_count": null,
      "outputs": [
        {
          "output_type": "stream",
          "text": [
            "True\n",
            "False\n",
            "True\n",
            "True\n",
            "False\n",
            "False\n"
          ],
          "name": "stdout"
        }
      ]
    },
    {
      "cell_type": "markdown",
      "metadata": {
        "id": "AkKDg0Lxw3c4"
      },
      "source": [
        "## Operadores Lógicos\n",
        "São utilizados para uma mesma tomada de decisão que necessite de mais de uma condição. Também são conhecidos como operadores booleanos. Operadores lógicos retornam somente os valores verdadeiro ou falso.\n",
        "\n",
        "| Operador Lógico | Função    | Prioridade |\n",
        "|-----------------|-----------|---------------------|\n",
        "| `NOT`           | Negação   | 1                   |\n",
        "| `AND`           | Conjunção | 2                   |\n",
        "| `OR`            | Disjunção | 3                   |"
      ]
    },
    {
      "cell_type": "code",
      "metadata": {
        "id": "DRUv3H5AsF8V",
        "colab": {
          "base_uri": "https://localhost:8080/"
        },
        "outputId": "1942f42b-fe5b-435a-a4de-495b11594b60"
      },
      "source": [
        "x = 1\n",
        "y = 3\n",
        "z = 5\n",
        "w = 2\n",
        "\n",
        "print(z > w and w > y)\n",
        "print(z > w or w > y)\n",
        "print(not y + w == z)"
      ],
      "execution_count": null,
      "outputs": [
        {
          "output_type": "stream",
          "text": [
            "False\n",
            "True\n",
            "False\n"
          ],
          "name": "stdout"
        }
      ]
    },
    {
      "cell_type": "code",
      "metadata": {
        "id": "u4NMl4X0w43O",
        "colab": {
          "base_uri": "https://localhost:8080/"
        },
        "outputId": "d567cf97-b8d8-4017-e3f7-19a56362381c"
      },
      "source": [
        "# 1 < 5 < 7\n",
        "print(1 < 5 and 5 < 7)\n",
        "print(1 < 5 < 7)\n",
        "n = 5\n",
        "print(1 < n < 7)"
      ],
      "execution_count": null,
      "outputs": [
        {
          "output_type": "stream",
          "text": [
            "True\n",
            "True\n",
            "True\n"
          ],
          "name": "stdout"
        }
      ]
    },
    {
      "cell_type": "code",
      "metadata": {
        "id": "_QfX5hX0w9do",
        "colab": {
          "base_uri": "https://localhost:8080/"
        },
        "outputId": "a9a3d7d0-d21d-4e24-dcf9-937f692e2c06"
      },
      "source": [
        "a = True\n",
        "print(not  a and 5 > 7)"
      ],
      "execution_count": null,
      "outputs": [
        {
          "output_type": "stream",
          "text": [
            "False\n"
          ],
          "name": "stdout"
        }
      ]
    },
    {
      "cell_type": "code",
      "metadata": {
        "id": "U4xFIRbipw2g"
      },
      "source": [
        ""
      ],
      "execution_count": null,
      "outputs": []
    },
    {
      "cell_type": "markdown",
      "metadata": {
        "id": "WsXf_ireWQZd"
      },
      "source": [
        "#Estruturas Condicionais\n",
        "\n",
        "Em Python, é possível controlar o fluxo de execução do código usando estruturas condicionais.\n",
        "\n"
      ]
    },
    {
      "cell_type": "markdown",
      "metadata": {
        "id": "zmalBcHrxAkw"
      },
      "source": [
        "## Estrutura Condicional Simples\n",
        "\n",
        "- if\n",
        "\n",
        "```python\n",
        "if condição:\n",
        "  # se for verdade\n",
        "```\n",
        "\n"
      ]
    },
    {
      "cell_type": "code",
      "metadata": {
        "id": "12kCjeeyxEHI",
        "colab": {
          "base_uri": "https://localhost:8080/"
        },
        "outputId": "92174d84-6f5c-4759-bc53-064609088923"
      },
      "source": [
        "if 10 > 5:\n",
        "  print('10 é maior que 5')\n",
        "print('Sempre exibe')"
      ],
      "execution_count": null,
      "outputs": [
        {
          "output_type": "stream",
          "text": [
            "10 é maior que 5\n",
            "Sempre exibe\n"
          ],
          "name": "stdout"
        }
      ]
    },
    {
      "cell_type": "markdown",
      "metadata": {
        "id": "4lZ3gYBwxIqw"
      },
      "source": [
        "## Estrutura Condicional Composta\n",
        "\n",
        "- if\n",
        "- elif\n",
        "- else\n",
        "\n",
        "```python\n",
        "if condição:\n",
        "  # se for verdade\n",
        "else:\n",
        "  # se não for verdade\n",
        "```\n",
        "\n",
        "```python\n",
        "if condição:\n",
        "  # se for verdade\n",
        "elif outra_condicao:\n",
        "  # se a outra condição for verdadeira\n",
        "else:\n",
        "  # se não for verdade\n",
        "```"
      ]
    },
    {
      "cell_type": "code",
      "metadata": {
        "id": "8CDRVqpCxL5N",
        "colab": {
          "base_uri": "https://localhost:8080/"
        },
        "outputId": "93942da2-cedc-46e2-e3e5-83cae9fd616b"
      },
      "source": [
        "name = 'Valentina'\n",
        "\n",
        "if name == 'Diogo':\n",
        "  print('Pode passar')\n",
        "else:\n",
        "  print('Não pode passar')"
      ],
      "execution_count": null,
      "outputs": [
        {
          "output_type": "stream",
          "text": [
            "Não pode passar\n"
          ],
          "name": "stdout"
        }
      ]
    },
    {
      "cell_type": "code",
      "metadata": {
        "id": "vKb7Mu1SxN8-",
        "colab": {
          "base_uri": "https://localhost:8080/"
        },
        "outputId": "a24d9e15-6c7f-4e66-e113-fc94691b5931"
      },
      "source": [
        "name = 'Diogo'\n",
        "\n",
        "if name == 'Diogo':\n",
        "  print('Pode passar')\n",
        "elif name == 'Gabriela':\n",
        "  print('Pode passar se pagar')\n",
        "else:\n",
        "  print('Não pode passar')"
      ],
      "execution_count": null,
      "outputs": [
        {
          "output_type": "stream",
          "text": [
            "Pode passar\n"
          ],
          "name": "stdout"
        }
      ]
    },
    {
      "cell_type": "markdown",
      "metadata": {
        "id": "ONQEKPoD5WRt"
      },
      "source": [
        "## IF inline\n",
        "\n",
        "(caso verdadeiro) if (condição) else (caso falso)"
      ]
    },
    {
      "cell_type": "code",
      "metadata": {
        "id": "KRa8D_vB5l_B",
        "colab": {
          "base_uri": "https://localhost:8080/"
        },
        "outputId": "68f96c46-bff0-445a-822d-7c1c8c7a368b"
      },
      "source": [
        "nome = 'Dyogo'\n",
        "resultado = 'Pode passar' if nome == 'Diogo' else 'Não pode passar'\n",
        "print(resultado)"
      ],
      "execution_count": null,
      "outputs": [
        {
          "output_type": "stream",
          "text": [
            "Não pode passar\n"
          ],
          "name": "stdout"
        }
      ]
    },
    {
      "cell_type": "markdown",
      "metadata": {
        "id": "L1_5F0TnxazF"
      },
      "source": [
        "# Exercícios\n"
      ]
    },
    {
      "cell_type": "markdown",
      "metadata": {
        "id": "ALgn8jEOXI8m"
      },
      "source": [
        "1. Informe a saída das seguintes expressões:\n",
        "\n",
        "a)\n",
        "```python\n",
        "3 < 8 # True\n",
        "```\n",
        "b)\n",
        "```python\n",
        "a = 12\n",
        "b = a - 10\n",
        "a > b # True\n",
        "```\n",
        "c)\n",
        "```python\n",
        "16 != 16 # False\n",
        "```\n",
        "d)\n",
        "```python\n",
        "2 < 5 > 10 # False\n",
        "```\n",
        "e)\n",
        "```python\n",
        "3 <= 5 >= 2 # True\n",
        "```"
      ]
    },
    {
      "cell_type": "markdown",
      "metadata": {
        "id": "38fv7groq1TP"
      },
      "source": [
        "2. Verifique se as igualdades abaixo são verdadeiras:"
      ]
    },
    {
      "cell_type": "markdown",
      "metadata": {
        "id": "NVrRDMptq-XV"
      },
      "source": [
        "**(a)** $2 \\times 2.0 = 4$"
      ]
    },
    {
      "cell_type": "code",
      "metadata": {
        "id": "WUKZ6b78rA7V",
        "colab": {
          "base_uri": "https://localhost:8080/"
        },
        "outputId": "307db50c-2475-40e4-ed41-7d10c800ef71"
      },
      "source": [
        "2 * 2.0 == 4"
      ],
      "execution_count": null,
      "outputs": [
        {
          "output_type": "execute_result",
          "data": {
            "text/plain": [
              "True"
            ]
          },
          "metadata": {
            "tags": []
          },
          "execution_count": 25
        }
      ]
    },
    {
      "cell_type": "markdown",
      "metadata": {
        "id": "tOJCnahPrD-W"
      },
      "source": [
        "**(b)** $2 \\times 3 = 5$"
      ]
    },
    {
      "cell_type": "code",
      "metadata": {
        "id": "GkMDHX0vrEqZ",
        "colab": {
          "base_uri": "https://localhost:8080/"
        },
        "outputId": "5c646a47-c3be-4374-ae39-27ec5b613279"
      },
      "source": [
        "2 * 3 == 5"
      ],
      "execution_count": null,
      "outputs": [
        {
          "output_type": "execute_result",
          "data": {
            "text/plain": [
              "False"
            ]
          },
          "metadata": {
            "tags": []
          },
          "execution_count": 26
        }
      ]
    },
    {
      "cell_type": "markdown",
      "metadata": {
        "id": "bmiounPQrE7N"
      },
      "source": [
        "**(c)** $4a + 3 = b$, para $a=3$ e $b=15$ (primeiro declare as variáveis `a` e `b`)"
      ]
    },
    {
      "cell_type": "code",
      "metadata": {
        "id": "gYX4EINtrHR9",
        "colab": {
          "base_uri": "https://localhost:8080/"
        },
        "outputId": "e52de9ad-e6ff-48e0-99e8-711e5df2783e"
      },
      "source": [
        "a = 3\n",
        "b = 15\n",
        "(4 * a) + 3 == b"
      ],
      "execution_count": null,
      "outputs": [
        {
          "output_type": "execute_result",
          "data": {
            "text/plain": [
              "True"
            ]
          },
          "metadata": {
            "tags": []
          },
          "execution_count": 27
        }
      ]
    },
    {
      "cell_type": "markdown",
      "metadata": {
        "id": "8cxnTi98vCBA"
      },
      "source": [
        "3. Faça um programa que calcule as raízes de uma equação do segundo grau, na forma ax2 + bx + c. O programa deverá pedir os valores de a, b e c e fazer as consistências, informando ao usuário nas seguintes situações:\n",
        "\n",
        "a- Se o usuário informar o valor de A igual a zero, a equação não é do segundo grau e o programa não deve fazer pedir os demais valores, sendo encerrado;\n",
        "\n",
        "b- Se o delta calculado for negativo, a equação não possui raizes reais. Informe ao usuário e encerre o programa;\n",
        "\n",
        "c- Se o delta calculado for igual a zero a equação possui apenas uma raiz real; informe-a ao usuário;\n",
        "\n",
        "d- Se o delta for positivo, a equação possui duas raiz reais; informe-as ao usuário;"
      ]
    },
    {
      "cell_type": "code",
      "metadata": {
        "id": "OXnitl8yvPel",
        "colab": {
          "base_uri": "https://localhost:8080/"
        },
        "outputId": "fca3e795-713e-4218-8dd6-ba9eaf50470c"
      },
      "source": [
        "import math\n",
        "a = float(input('Informe uma valor para a: '))\n",
        "if a == 0:\n",
        "  print('A equação não é do segundo grau. Programa encerrado.')\n",
        "else:\n",
        "  b = float(input('Informe uma valor para b: '))\n",
        "  c = float(input('Informe uma valor para c: '))\n",
        "  d = (b**2) - (4 * a * c) # Calculo de delta\n",
        "  if(d < 0):\n",
        "    print('A equação não possui raízes reais. Programa encerrado.')\n",
        "  elif(d == 0):\n",
        "    print(f'A equação possui apenas uma raíz real: {-b / (2 * a)}')\n",
        "  else:\n",
        "    raiz = math.sqrt(d)\n",
        "    print(f'A equação possui duas raízes reais:\\n{(-(b) - raiz) / 2 * a} e {(-(b) + raiz) / 2 * a}')\n"
      ],
      "execution_count": null,
      "outputs": [
        {
          "output_type": "stream",
          "text": [
            "Informe uma valor para a: 1\n",
            "Informe uma valor para b: -4\n",
            "Informe uma valor para c: -5\n",
            "A equação possui duas raízes reais:\n",
            "-1.0 e 5.0\n"
          ],
          "name": "stdout"
        }
      ]
    },
    {
      "cell_type": "markdown",
      "metadata": {
        "id": "Hjpnzu9HvQiU"
      },
      "source": [
        "4. Faça um Programa que peça um número correspondente a um determinado ano e em seguida informe se este ano é ou não bissexto."
      ]
    },
    {
      "cell_type": "code",
      "metadata": {
        "id": "Lh2LloRVvTvc",
        "colab": {
          "base_uri": "https://localhost:8080/"
        },
        "outputId": "4d008765-b27e-47a2-ef9b-0cf97ed131dc"
      },
      "source": [
        "ano = int(input('Informe um ano para ver se ele é ou nao bissexto: '))\n",
        "if((ano % 4 == 0) and (ano % 100 != 0) or (ano % 400 == 0)):\n",
        "  print(f'O ano {ano} é bissexto')\n",
        "else:\n",
        "  print(f'O ano {ano} não é bissexto')"
      ],
      "execution_count": null,
      "outputs": [
        {
          "output_type": "stream",
          "text": [
            "Informe um ano para ver se ele é ou nao bissexto: 1700\n",
            "O ano 1700 não é bissexto\n"
          ],
          "name": "stdout"
        }
      ]
    },
    {
      "cell_type": "markdown",
      "metadata": {
        "id": "XunttGjtvUH0"
      },
      "source": [
        "5. Faça um Programa que peça uma data no formato dd/mm/aaaa e determine se a mesma é uma data válida."
      ]
    },
    {
      "cell_type": "code",
      "metadata": {
        "id": "2UzoTDudvUfr",
        "colab": {
          "base_uri": "https://localhost:8080/"
        },
        "outputId": "84954d90-2923-4308-b649-090adbc0e5cc"
      },
      "source": [
        "data = input('Informe a data no formato dd/mm/aaaa: ').split('/')\n",
        "dia = int(data[0])\n",
        "mes = int(data[1])\n",
        "ano = int(data[2])\n",
        "if(1 <= mes <= 12):\n",
        "    if(1 <= dia <= 31):\n",
        "        if(1 <= ano <= 9999):\n",
        "            print('Data válida...')\n",
        "        else:\n",
        "            print('Ano inválido, tente novamente.')\n",
        "    else:\n",
        "        print('Dia inválido, tente novamente.')\n",
        "else:\n",
        "    print('Mês inválido, tente novamente.')"
      ],
      "execution_count": null,
      "outputs": [
        {
          "output_type": "stream",
          "text": [
            "Informe a data no formato dd/mm/aaaa: 08/02/1980\n",
            "Data válida...\n"
          ],
          "name": "stdout"
        }
      ]
    },
    {
      "cell_type": "markdown",
      "metadata": {
        "id": "TgyLzECrvUnP"
      },
      "source": [
        "6. Faça um Programa que leia um número e exiba o dia correspondente da semana. (1-Domingo, 2- Segunda, etc.), se digitar outro valor deve aparecer valor inválido."
      ]
    },
    {
      "cell_type": "code",
      "metadata": {
        "colab": {
          "base_uri": "https://localhost:8080/"
        },
        "id": "-ytvkCEKzrH7",
        "outputId": "1a2a8c56-9cc0-45fd-8a8d-e6cc254318f4"
      },
      "source": [
        "d = {1:'Domingo', 2:'Segunda-feira', 3:'Terça-feira', 4:'Quarta-feira', 5:'Quinta-feira', 6:'Sexta-feira', 7:'Sàbado'}\n",
        "print('Informe um número:\\n1-Domingo\\n2-Segunda\\n3-Terça\\n4-Quarta\\n5-Quinta\\n6-Sexta\\n7-Sábado')\n",
        "num = int(input('Faça sua escolha: '))\n",
        "print(d[num])\n"
      ],
      "execution_count": null,
      "outputs": [
        {
          "output_type": "stream",
          "text": [
            "Informe um número:\n",
            "1-Domingo\n",
            "2-Segunda\n",
            "3-Terça\n",
            "4-Quarta\n",
            "5-Quinta\n",
            "6-Sexta\n",
            "7-Sábado\n",
            "Faça sua escolha: 4\n",
            "Quarta-feira\n"
          ],
          "name": "stdout"
        }
      ]
    },
    {
      "cell_type": "code",
      "metadata": {
        "id": "aDvuInTgvifq",
        "colab": {
          "base_uri": "https://localhost:8080/"
        },
        "outputId": "3f1130fc-40c7-48d5-b1f9-3ae00634629b"
      },
      "source": [
        "print('Informe um número:\\n1-Domingo\\n2-Segunda\\n3-Terça\\n4-Quarta\\n5-Quinta\\n6-Sexta\\n7-Sábado')\n",
        "escolha = int(input('Qual sua escolha: '))\n",
        "if(escolha == 1):\n",
        "  print('Domingo')\n",
        "elif(escolha == 2):\n",
        "  print('Segunda-feira')\n",
        "elif(escolha == 3):\n",
        "  print('Terça-feira')\n",
        "elif(escolha == 4):\n",
        "  print('Quarta-feira')\n",
        "elif(escolha == 5):\n",
        "  print('Quinta-feira')\n",
        "elif(escolha == 6):\n",
        "  print('Sexta-feira')\n",
        "elif(escolha == 7):\n",
        "  print('Sábado')\n",
        "else:\n",
        "  print('Valor inválido')"
      ],
      "execution_count": null,
      "outputs": [
        {
          "output_type": "stream",
          "text": [
            "Informe um número:\n",
            "1-Domingo\n",
            "2-Segunda\n",
            "3-Terça\n",
            "4-Quarta\n",
            "5-Quinta\n",
            "6-Sexta\n",
            "7-Sábado\n",
            "Qual sua escolha: 8\n",
            "Valor inválido\n"
          ],
          "name": "stdout"
        }
      ]
    },
    {
      "cell_type": "markdown",
      "metadata": {
        "id": "Si_23BWYxrO5"
      },
      "source": [
        "7. Crie um programa para um circo, no qual dada a idade de uma pessoa, seja indicado o valor do ingresso segundo as regras:\n",
        "\n",
        "a) A entrada para qualquer pessoa com menos de 4 anos ou maior que 60 é gratuita;\n",
        "\n",
        "b) a entrada para qualquer pessoa com idade entre 4 e 18 custa 20 reais;\n",
        "\n",
        "c) a entrada para qualquer pessoa com 18 ou mais custa 30 reais;\n",
        "\n",
        "d) estudantes e professores pagam meia-entrada."
      ]
    },
    {
      "cell_type": "code",
      "metadata": {
        "id": "pNZbzASKxtzV",
        "colab": {
          "base_uri": "https://localhost:8080/"
        },
        "outputId": "259b4c5e-d01a-436e-d7e9-a7ed1c1c02e8"
      },
      "source": [
        "idade = int(input('Informe a idade da pessoa: '))\n",
        "\n",
        "if(idade < 4 or idade > 60):\n",
        "  print('Entrada gratuita...')\n",
        "elif(idade >= 4 and idade < 18):\n",
        "  print('Entrada no valor de R$ 20,00 inteira ou R$ 10,00 caso seja estudante ou professor.')\n",
        "else:\n",
        "  print('Entrada no valor de R$ 30,00 ou R$ 15,00 caso seja estudante ou professor.')"
      ],
      "execution_count": null,
      "outputs": [
        {
          "output_type": "stream",
          "text": [
            "Informe a idade da pessoa: 11\n",
            "Entrada no valor de R$ 20,00 inteira ou R$ 10,00 caso seja estudante ou professor.\n"
          ],
          "name": "stdout"
        }
      ]
    },
    {
      "cell_type": "markdown",
      "metadata": {
        "id": "FR7yDSeiqG3C"
      },
      "source": [
        "8. Complete o código na célula abaixo para imprimir uma mensagem informando se um aluno foi aprovado ou reprovado em uma disciplina com base em sua nota final. A nota mínima necessária para aprovação é  5 ."
      ]
    },
    {
      "cell_type": "code",
      "metadata": {
        "id": "SOYR5rb_qJeM",
        "colab": {
          "base_uri": "https://localhost:8080/"
        },
        "outputId": "c5fd6870-54db-427f-84f0-335b0f9e30cf"
      },
      "source": [
        "notaAluno = 4.8 # insira aqui a nota do aluno\n",
        "\n",
        "# Complete o código abaixo\n",
        "if(notaAluno >= 5.0):\n",
        "    print(\"Aluno aprovado\")\n",
        "else:\n",
        "    print(\"Aluno reprovado\")"
      ],
      "execution_count": null,
      "outputs": [
        {
          "output_type": "stream",
          "text": [
            "Aluno reprovado\n"
          ],
          "name": "stdout"
        }
      ]
    },
    {
      "cell_type": "markdown",
      "metadata": {
        "id": "Hm-cqUzIqdiM"
      },
      "source": [
        "9. Construa uma pequena **chave dicotômica** para identificar uma determinada planta como membro de um dos principais grupos: *Bryophyta*, *Pteridophyta*, *Gymnospermae* ou *Angiospermae*.\n",
        "A identificação se dá com base na presença (1) ou ausência (0) de três caracteres: **vascularização**, **sementes** e **flores**. \n",
        "Utilize a tabela abaixo como referência."
      ]
    },
    {
      "cell_type": "markdown",
      "metadata": {
        "id": "rb-IaXMLqmwB"
      },
      "source": [
        "| Grupo | Vascularização| Sementes| Flores |\n",
        "|--|--|--|--|\n",
        "| Bryophyta | 0 | 0 | 0 |\n",
        "| Pteridophyta | 1| 0 | 0 |\n",
        "| Gymnospermae | 1 | 1 | 0 |\n",
        "| Angiospermae | 1 | 1 | 1 |\n"
      ]
    },
    {
      "cell_type": "code",
      "metadata": {
        "id": "zoQsaFZjqcxA",
        "colab": {
          "base_uri": "https://localhost:8080/"
        },
        "outputId": "157a741b-9972-4644-9f54-c885383c15f8"
      },
      "source": [
        "# Estas variáveis armazenam a presença (1) ou ausência (0) de cada caractere\n",
        "vasc = 1\n",
        "sem = 0\n",
        "flor = 0\n",
        "\n",
        "# Seu código aqui\n",
        "if(vasc == 0 and sem == 0 and flor == 0):\n",
        "  print('Bryophyta')\n",
        "elif(vasc == 1 and sem == 0 and flor == 0):\n",
        "  print('Pteridophyta')\n",
        "elif(vasc == 1 and sem == 1 and flor == 0):\n",
        "  print('Gymnospermae')\n",
        "elif(vasc == 1 and sem == 1 and flor == 1):\n",
        "  print('Angiospermae')"
      ],
      "execution_count": null,
      "outputs": [
        {
          "output_type": "stream",
          "text": [
            "Pteridophyta\n"
          ],
          "name": "stdout"
        }
      ]
    },
    {
      "cell_type": "markdown",
      "metadata": {
        "id": "aNI2VzpEsuSo"
      },
      "source": [
        "10. Um posto está vendendo combustíveis com a seguinte tabela de descontos:\n",
        "\n",
        "a. Álcool:\n",
        "\n",
        "    até 20 litros, desconto de 3% por litro\n",
        "    acima de 20 litros, desconto de 5% por litro\n",
        "\n",
        "b. Gasolina:\n",
        "\n",
        "    até 20 litros, desconto de 4% por litro\n",
        "    acima de 20 litros, desconto de 6% por litro\n",
        "\n",
        "Escreva um algoritmo que leia o número de litros vendidos, o tipo de combustível (codificado da seguinte forma: A-álcool, G-gasolina), calcule e imprima o valor a ser pago pelo cliente sabendo-se que o preço do litro da gasolina é 2.50 o preço do litro do álcool é 1,90."
      ]
    },
    {
      "cell_type": "code",
      "metadata": {
        "id": "D3MJKrgxtlzb",
        "colab": {
          "base_uri": "https://localhost:8080/"
        },
        "outputId": "a3c58fc3-e2d5-450f-c9b2-3e39f178e442"
      },
      "source": [
        "litros = float(input('Informe a quantidade de litros: '))\n",
        "tipo = str(input('Informe\\n[A] - Álcool ou [G] - Gasolina: '))\n",
        "litroAlcool = 1.90\n",
        "litroGasolina = 2.50\n",
        "if((tipo == 'A' or tipo == 'a') and (litros <= 20)):\n",
        "  print(f'O valor a ser pago é R$ {litros * (litroAlcool * 0.97):.2f}')\n",
        "elif((tipo == 'A' or tipo == 'a') and (litros > 20)):\n",
        "  print(f'O valor a ser pago é R$ {litros * (litroAlcool * 0.95):.2f}')\n",
        "elif((tipo == 'G' or tipo == 'g') and (litros <= 20)):\n",
        "  print(f'O valor a ser pago é R$ {litros * (litroGasolina * 0.96):.2f}')\n",
        "elif((tipo == 'G' or tipo == 'g') and (litros > 20)):\n",
        "  print(f'O valor a ser pago é R$ {litros * (litroGasolina * 0.94):.2f}')\n"
      ],
      "execution_count": null,
      "outputs": [
        {
          "output_type": "stream",
          "text": [
            "Informe a quantidade de litros: 19\n",
            "Informe\n",
            "[A] - Álcool ou [G] - Gasolina: g\n",
            "O valor a ser pago é R$ 45.60\n"
          ],
          "name": "stdout"
        }
      ]
    },
    {
      "cell_type": "markdown",
      "metadata": {
        "id": "wpMhfBBetmCa"
      },
      "source": [
        "11. Faça um Programa que leia 2 números e em seguida pergunte ao usuário qual operação ele deseja realizar. O resultado da operação deve ser acompanhado de uma frase que diga se o número é:\n",
        "\n",
        "a. par ou ímpar;\n",
        "\n",
        "b. positivo ou negativo;\n",
        "\n",
        "c. inteiro ou decimal."
      ]
    },
    {
      "cell_type": "code",
      "metadata": {
        "id": "ypcUM1gvtuVY",
        "colab": {
          "base_uri": "https://localhost:8080/"
        },
        "outputId": "c598bfcc-6059-4842-9681-6338b3b93fc1"
      },
      "source": [
        "numero1 = float(input('Informe o primeiro número: '))\n",
        "numero2 = float(input('Informe o segundo número: '))\n",
        "print('Qual operação desaja realizar?\\n[A] - Adição\\n[S] - Subtração\\n[M] - Multiplicação\\n[D] - Divisão')\n",
        "escolha = input('Informe a operação: ')\n",
        "if(escolha == 'A' or escolha == 'a'):\n",
        "  adicao = numero1 + numero2\n",
        "  resultado_Par_Impar = 'Par' if (adicao % 2 == 0) else 'Ímpar'\n",
        "  resultado_Positivo_Negativo = 'Positivo' if (adicao >= 0) else 'Negativo'\n",
        "  if(adicao // 1 == adicao):    \n",
        "    print(f'O resultado da adição é {adicao:.2f}, {resultado_Par_Impar}, {resultado_Positivo_Negativo} e Inteiro')\n",
        "  else:\n",
        "    print(f'O resultado da adição é {adicao:.2f}, {resultado_Par_Impar}, {resultado_Positivo_Negativo} e Decimal')\n",
        "elif(escolha == 'S' or escolha == 's'):\n",
        "  subtracao = numero1 - numero2\n",
        "  resultado_Par_Impar = 'Par' if (subtracao % 2 == 0) else 'Ímpar'\n",
        "  resultado_Positivo_Negativo = 'Positivo' if (subtracao >= 0) else 'Negativo'\n",
        "  if(subtracao // 1 == subtracao):    \n",
        "    print(f'O resultado da subtração é {subtracao:.2f}, {resultado_Par_Impar}, {resultado_Positivo_Negativo} e Inteiro')\n",
        "  else:\n",
        "    print(f'O resultado da subtração é {subtracao:.2f}, {resultado_Par_Impar}, {resultado_Positivo_Negativo} e Decimal')\n",
        "elif(escolha == 'M' or escolha == 'm'):\n",
        "  multiplicacao = numero1 * numero2\n",
        "  resultado_Par_Impar = 'Par' if (multiplicacao % 2 == 0) else 'Ímpar'\n",
        "  resultado_Positivo_Negativo = 'Positivo' if (multiplicacao >= 0) else 'Negativo'\n",
        "  if(multiplicacao // 1 == multiplicacao):    \n",
        "    print(f'O resultado da multiplicação é {multiplicacao:.2f}, {resultado_Par_Impar}, {resultado_Positivo_Negativo} e Inteiro')\n",
        "  else:\n",
        "    print(f'O resultado da multiplicação é {multiplicacao:.2f}, {resultado_Par_Impar}, {resultado_Positivo_Negativo} e Decimal')\n",
        "elif(escolha == 'D' or escolha == 'd'):\n",
        "  divisao = numero1 / numero2\n",
        "  resultado_Par_Impar = 'Par' if (divisao % 2 == 0) else 'Ímpar'\n",
        "  resultado_Positivo_Negativo = 'Positivo' if (divisao >= 0) else 'Negativo'\n",
        "  if(divisao // 1 == divisao):    \n",
        "    print(f'O resultado da divisao é {divisao:.2f}, {resultado_Par_Impar}, {resultado_Positivo_Negativo} e Inteiro')\n",
        "  else:\n",
        "    print(f'O resultado da divisao é {divisao:.2f}, {resultado_Par_Impar}, {resultado_Positivo_Negativo} e Decimal')"
      ],
      "execution_count": 8,
      "outputs": [
        {
          "output_type": "stream",
          "text": [
            "Informe o primeiro número: 6\n",
            "Informe o segundo número: -4\n",
            "Qual operação desaja realizar?\n",
            "[A] - Adição\n",
            "[S] - Subtração\n",
            "[M] - Multiplicação\n",
            "[D] - Divisão\n",
            "Informe a operação: m\n",
            "O resultado da multiplicação é -24.00, Par, Negativo e Inteiro\n"
          ],
          "name": "stdout"
        }
      ]
    }
  ]
}