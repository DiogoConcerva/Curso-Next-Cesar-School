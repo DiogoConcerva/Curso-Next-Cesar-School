{
  "nbformat": 4,
  "nbformat_minor": 0,
  "metadata": {
    "colab": {
      "name": "Aula 06 - Arquivos",
      "provenance": [],
      "collapsed_sections": [],
      "include_colab_link": true
    },
    "kernelspec": {
      "name": "python3",
      "display_name": "Python 3"
    },
    "language_info": {
      "name": "python"
    }
  },
  "cells": [
    {
      "cell_type": "markdown",
      "metadata": {
        "id": "view-in-github",
        "colab_type": "text"
      },
      "source": [
        "<a href=\"https://colab.research.google.com/github/DiogoConcerva/Curso-Next-Cesar-School/blob/main/Aula_06_Arquivos.ipynb\" target=\"_parent\"><img src=\"https://colab.research.google.com/assets/colab-badge.svg\" alt=\"Open In Colab\"/></a>"
      ]
    },
    {
      "cell_type": "markdown",
      "metadata": {
        "id": "tRvcy-qw7juT"
      },
      "source": [
        "<img src=\"https://www.cesar.school/wp-content/uploads/2019/09/marca_cesar_school.png\" alt=\"drawing\" width=\"200\"/>\n",
        "\n",
        "# Python - **Aula 06**\n",
        "\n",
        "---\n",
        "\n",
        "- Arquivos"
      ]
    },
    {
      "cell_type": "markdown",
      "metadata": {
        "id": "bLCeYSaCvWbu"
      },
      "source": [
        "Uma das formas mais eficientes de manter informações salvas é armazenando os dados em arquivo.\n",
        "\n",
        "Além disso, é muito comum termos a necessidade de fazer a leitura de um arquivo para extrair os dados que vão ser processados.\n",
        "\n",
        "Independente de para qual objeto, em Python é possível fazer a leitura e escrita em arquivos de forma simples e rápida!"
      ]
    },
    {
      "cell_type": "markdown",
      "metadata": {
        "id": "AlSkSWbbvaY-"
      },
      "source": [
        "## Arquivos\n",
        "\n",
        "De forma geral, podemos dizer que existem dois tipos de arquivo:\n",
        "- Arquivos de texto (`.txt`, `.py`, `.html`, `.md`)\n",
        "- Arquivos binários (`.docx`, `.pdf`, `.jpeg`, `.mp3`)\n",
        "\n"
      ]
    },
    {
      "cell_type": "code",
      "metadata": {
        "colab": {
          "base_uri": "https://localhost:8080/"
        },
        "id": "gNtvOj7LLApX",
        "outputId": "fff7fe1d-f26b-4cab-f0ee-2fe7743d1b37"
      },
      "source": [
        "%%writefile exemplo.txt\n",
        "Esse é um exemplo de arquivo\n",
        "\n",
        "Veja só que coisa"
      ],
      "execution_count": null,
      "outputs": [
        {
          "output_type": "stream",
          "text": [
            "Writing exemplo.txt\n"
          ],
          "name": "stdout"
        }
      ]
    },
    {
      "cell_type": "markdown",
      "metadata": {
        "id": "fdMr3-y0vpy7"
      },
      "source": [
        "## Abrindo um arquivo e modo de abertura\n",
        "\n",
        "Podemos usar a função open() para abrir um arquivo:\n",
        "\n",
        "```python\n",
        "arquivo = open('nomedoarquivo.txt')\n",
        "```\n",
        "\n",
        "Por padrão, os arquivos são abertos no modo de leitura, mas existem vários outros modos possíveis:\n",
        "\n",
        "|   Modo  | Descrição |\n",
        "|---------|-----------|\n",
        "| **'r'** |  **Read** |\n",
        "|   'a'   |   Append  |\n",
        "|   'w'   |   Write   |\n",
        "|   'x'   |   Create  |\n",
        "|    -    |     -     |\n",
        "| **'t'** | **Texto** |\n",
        "|   'b'   |  Binário  |\n",
        "|   '+'   |  Update   |\n",
        "\n",
        "O modo pode ser definido como um segundo parâmetro à função `open()`:\n",
        "\n",
        "```python\n",
        "arquivo = open('nomedoarquivo.txt', 'a')\n",
        "```\n",
        "\n",
        "https://docs.python.org/3/library/functions.html#open"
      ]
    },
    {
      "cell_type": "code",
      "metadata": {
        "id": "VjTFPmmGvsK8",
        "colab": {
          "base_uri": "https://localhost:8080/"
        },
        "outputId": "7b57e5f7-408f-40ee-e6c0-04c0cf408c4e"
      },
      "source": [
        "arq = open('teste.diogo')\n",
        "print(arq)"
      ],
      "execution_count": null,
      "outputs": [
        {
          "output_type": "stream",
          "text": [
            "<_io.TextIOWrapper name='teste.diogo' mode='r' encoding='UTF-8'>\n"
          ],
          "name": "stdout"
        }
      ]
    },
    {
      "cell_type": "markdown",
      "metadata": {
        "id": "Oq_6oiZ6vv9z"
      },
      "source": [
        "## Lendo e Escrevendo\n",
        "\n",
        "### Leitura\n",
        "\n",
        "```python\n",
        "arquivo.read()\n",
        "arquivo.seek(0)\n",
        "arquivo.readline()\n",
        "```\n",
        "\n",
        "```python\n",
        "arquivo = open('nomedoarquivo.txt', 'r')\n",
        "for linha in arquivo:\n",
        "  print(linha)\n",
        "```"
      ]
    },
    {
      "cell_type": "code",
      "metadata": {
        "id": "PMSSQrEyvx7y",
        "colab": {
          "base_uri": "https://localhost:8080/"
        },
        "outputId": "9138fc45-cda9-4269-f27a-2e43ce413643"
      },
      "source": [
        "arq = open('exemplo.txt')\n",
        "arq.seek(0) # Faz o ponteiro andar quantas casa desejar\n",
        "print(arq.read())\n",
        "#print(arq.readline()) # Ler as linhas, nesse caso 3\n",
        "#print(arq.readline())\n",
        "#print(arq.readline())"
      ],
      "execution_count": null,
      "outputs": [
        {
          "output_type": "stream",
          "text": [
            "Esse é um exemplo de arquivo\n",
            "\n",
            "Veja só que coisa\n",
            "4 - Que blz\n",
            "5 - Olá\n"
          ],
          "name": "stdout"
        }
      ]
    },
    {
      "cell_type": "markdown",
      "metadata": {
        "id": "RXKTLT0kvzxz"
      },
      "source": [
        "### Escrita\n",
        "\n",
        "Para escrever um arquivo, é necessário usar como modo `w` ou `r+`:\n",
        "```python\n",
        "arquivo = open('nomearquivo.txt', 'w')\n",
        "arquivo.write('Capitã Marvel, Marvel')\n",
        "```\n",
        "\n",
        "```python\n",
        "arquivo = open('nomearquivo.txt', 'a')\n",
        "arquivo.write('\\nBatman, DC')\n",
        "arquivo.write('\\nHulk, Marvel')\n",
        "```"
      ]
    },
    {
      "cell_type": "code",
      "metadata": {
        "id": "JVVlPiDfv1nN"
      },
      "source": [
        "arquivo = open('herois.txt', 'w')\n",
        "arquivo.write('Rambo,DC')\n",
        "arquivo.write('\\nRocky1,Marvel')\n",
        "arquivo.write('\\nComando Delta,Fox')\n",
        "arquivo.close()"
      ],
      "execution_count": null,
      "outputs": []
    },
    {
      "cell_type": "code",
      "metadata": {
        "id": "B3cLK0hiv59J"
      },
      "source": [
        "### Fechamento do arquivo\n",
        "# arquivo.close()\n"
      ],
      "execution_count": null,
      "outputs": []
    },
    {
      "cell_type": "markdown",
      "metadata": {
        "id": "M6CEWMR4v8cT"
      },
      "source": [
        "## Comando `With`\n",
        "\n",
        "Principais vantagens:\n",
        "- Sintaxe mais limpa para a leitura de arquivos;\n",
        "- Abre e fecha o arquivo automaticamente;\n",
        "\n",
        "```python\n",
        "with open('arquivo.txt') as arquivo:\n",
        "  print(arquivo.readline())\n",
        "  print(arquivo.readline())\n",
        "```\n",
        "\n"
      ]
    },
    {
      "cell_type": "code",
      "metadata": {
        "id": "7u0IJyphv-aB",
        "colab": {
          "base_uri": "https://localhost:8080/"
        },
        "outputId": "dacce830-5a91-4d79-8c78-1eff8df4f167"
      },
      "source": [
        "with open('herois.txt') as arq_herois:\n",
        "  '''print(arq_herois.readline())\n",
        "  print(arq_herois.readline())\n",
        "'''\n",
        "  for linha in arq_herois:\n",
        "    print(linha.split(',')[0])"
      ],
      "execution_count": null,
      "outputs": [
        {
          "output_type": "stream",
          "text": [
            "Rambo\n",
            "Rocky1\n",
            "Comando Delta\n"
          ],
          "name": "stdout"
        }
      ]
    },
    {
      "cell_type": "markdown",
      "metadata": {
        "id": "z1z5Wv98Psc_"
      },
      "source": [
        "# Exercícios Fundamentais"
      ]
    },
    {
      "cell_type": "markdown",
      "metadata": {
        "id": "eZ_OlH8owCAC"
      },
      "source": [
        "1. Aumente a lista de heróis no arquivo `herois.txt`. Feito isso, crie um programa que leia esse arquivo e crie dois novos arquivos:\n",
        "- Um arquivo apenas com heróis da Marvel;\n",
        "- Outro apenas com heróis da DC."
      ]
    },
    {
      "cell_type": "code",
      "metadata": {
        "id": "ftHZ1zjpwDLQ",
        "colab": {
          "base_uri": "https://localhost:8080/"
        },
        "outputId": "8dfcc875-526f-4346-c5f6-27a3d7fa3d0b"
      },
      "source": [
        "dc = []\n",
        "marvel = []\n",
        "\n",
        "with open('herois.txt') as herois:\n",
        "  for linha in herois:\n",
        "    lista = linha.split(',')\n",
        "    if 'DC' in lista[1]:\n",
        "      dc.append(lista[0])\n",
        "    else:\n",
        "      marvel.append(lista[0])\n",
        "\n",
        "def lista_arq(nome_arq, lista):\n",
        "  with open(nome_arq, 'w') as arq:\n",
        "    for linha in lista:\n",
        "      arq.write(linha + '\\n')\n",
        "\n",
        "lista_arq('dc.txt', dc)\n",
        "lista_arq('marvel.txt', marvel)"
      ],
      "execution_count": null,
      "outputs": [
        {
          "output_type": "stream",
          "text": [
            "Rambo\n"
          ],
          "name": "stdout"
        }
      ]
    },
    {
      "cell_type": "markdown",
      "metadata": {
        "id": "5wUzG4G_wF6x"
      },
      "source": [
        "2. Crie um programa que registra as notas de uma pessoa na escola (como o boletim) em um arquivo. Em seguida, leia todos os valores para imprimir o **menor** valor, o **maior** e a **média**.\n",
        "\n",
        "Dica: Se você usar listas, pode usar as funções `min()` e `max()`."
      ]
    },
    {
      "cell_type": "code",
      "metadata": {
        "id": "INq_IgoNwHTX",
        "colab": {
          "base_uri": "https://localhost:8080/"
        },
        "outputId": "830cd2de-cfe0-4084-9572-6fd517577cad"
      },
      "source": [
        "with open('notas.txt', 'w') as notas:\n",
        "  for _ in range(4):\n",
        "    n = input('Insira a nota: ')\n",
        "    notas.write(f'{n}\\n')\n",
        "\n",
        "with open('notas.txt') as notas:\n",
        "  result = []\n",
        "  for linha in notas:\n",
        "    result.append(int(linha))\n",
        "  print(f'A maior nota é {max(result)}')\n",
        "  print(f'A menor nota é {min(result)}')\n",
        "  print(f'A maior nota é {sum(result) / len(result)}')"
      ],
      "execution_count": null,
      "outputs": [
        {
          "output_type": "stream",
          "text": [
            "Insira a nota: 7\n",
            "Insira a nota: 8\n",
            "Insira a nota: 9\n",
            "Insira a nota: 10\n",
            "A maior nota é 10\n",
            "A menor nota é 7\n",
            "A maior nota é 8.5\n"
          ],
          "name": "stdout"
        }
      ]
    },
    {
      "cell_type": "markdown",
      "metadata": {
        "id": "-mVgCguqY_rR"
      },
      "source": [
        "# Exercícios de Aprofundamento"
      ]
    },
    {
      "cell_type": "markdown",
      "metadata": {
        "id": "XgNCMyoF3Axy"
      },
      "source": [
        "1. Faça um programa que leia um arquivo texto contendo uma lista de endereços IP e gere um outro arquivo, contendo um relatório dos endereços IP válidos e inválidos. Será considerado um IP válido quando nenhuma de suas partes ultrapassar 255.\n",
        "O arquivo de entrada possui o seguinte formato:\n",
        "```\n",
        "        200.135.80.9\n",
        "        192.168.1.1\n",
        "        8.35.67.74\n",
        "        257.32.4.5\n",
        "        85.345.1.2\n",
        "        1.2.3.4\n",
        "        9.8.234.5\n",
        "        192.168.0.256\n",
        "```\n",
        "- O arquivo de saída possui o seguinte formato:\n",
        "```\n",
        "        [Endereços válidos:]\n",
        "        200.135.80.9\n",
        "        192.168.1.1\n",
        "        8.35.67.74\n",
        "        1.2.3.4\n",
        "        9.8.234.5\n",
        "\n",
        "        [Endereços inválidos:]\n",
        "        257.32.4.5\n",
        "        85.345.1.2\n",
        "        192.168.0.256\n",
        "```"
      ]
    },
    {
      "cell_type": "code",
      "metadata": {
        "id": "2R0gdzmj3bTo"
      },
      "source": [
        "ipValidos = []\n",
        "ipInvalidos = []\n",
        "\n",
        "with open('ips.txt', 'w+') as ip:\n",
        "    ip.write('200.135.80.9')\n",
        "    ip.write('\\n192.168.1.1')\n",
        "    ip.write('\\n8.35.67.74')\n",
        "    ip.write('\\n257.32.4.5')\n",
        "    ip.write('\\n85.345.1.2')\n",
        "    ip.write('\\n1.2.3.4')\n",
        "    ip.write('\\n9.8.234.5')\n",
        "    ip.write('\\n192.168.0.256')\n",
        "\n",
        "def listaIp():\n",
        "    with open('ips.txt') as ip:\n",
        "        for linha in ip:\n",
        "            if(int(linha.split('.')[0]) <= 255)and (int(linha.split('.')[1]) <= 255) and (int(linha.split('.')[2]) <= 255) and (int(linha.split('.')[3]) <= 255):\n",
        "                ipValidos.append(linha)\n",
        "            else:\n",
        "                ipInvalidos.append(linha)\n",
        "\n",
        "listaIp()\n",
        "\n",
        "with open('relatórioIp.txt', 'w+') as relIp:\n",
        "    relIp.write('[Endereços válidos:]' + '\\n')\n",
        "    for c in ipValidos:\n",
        "        relIp.write(c)\n",
        "    relIp.write('\\n[Endereços inválidos:]' + '\\n')\n",
        "    for c in ipInvalidos:\n",
        "        relIp.write(c)"
      ],
      "execution_count": null,
      "outputs": []
    },
    {
      "cell_type": "markdown",
      "metadata": {
        "id": "U6F5uGX53uNL"
      },
      "source": [
        "2. A ACME Inc., uma empresa de 500 funcionários, está tendo problemas de espaço em disco no seu servidor de arquivos. Para tentar resolver este problema, o Administrador de Rede precisa saber qual o espaço ocupado pelos usuários, e identificar os usuários com maior espaço ocupado. Através de um programa, baixado da Internet, ele conseguiu gerar o seguinte arquivo, com o nome dos usuários e seus repectivos consumos em Bytes chamado \"usuarios.txt\":\n",
        "```\n",
        "      alexandre       456123789\n",
        "      anderson        1245698456\n",
        "      antonio         123456456\n",
        "      carlos          91257581\n",
        "      cesar           987458\n",
        "      rosemary        789456125\n",
        "```\n",
        "Neste arquivo, o nome do usuário possui 15 caracteres. A partir deste arquivo, você deve criar um programa que gere um relatório, chamado \"relatório.txt\", no seguinte formato:\n",
        "```\n",
        "    ACME Inc.       Uso do espaço em disco pelos usuários\n",
        "\n",
        "    Nr.  Usuário        Espaço utilizado     % do uso\n",
        "\n",
        "    1    alexandre       434,99 MB             16,85%\n",
        "    2    anderson       1187,99 MB             46,02%\n",
        "    3    antonio         117,73 MB              4,56%\n",
        "    4    carlos           87,03 MB              3,37%\n",
        "    5    cesar             0,94 MB              0,04%\n",
        "    6    rosemary        752,88 MB             29,16%\n",
        "\n",
        "    Espaço total ocupado: 2581,57 MB\n",
        "    Espaço médio ocupado: 430,26 MB\n",
        "```\n",
        "O arquivo de entrada deve ser lido uma única vez, e os dados armazenados em memória, caso sejam necessários, de forma a agilizar a execução do programa. A conversão do espaço ocupado em disco, de bytes para megabytes deverá ser feita através de uma função separada, que será chamada pelo programa principal. O cálculo do percentual de uso também deverá ser feito através de uma função, que será chamada pelo programa principal.\n"
      ]
    },
    {
      "cell_type": "code",
      "metadata": {
        "id": "Xhz7XuvR4q0k"
      },
      "source": [
        "with open('usuarios.txt', 'w+') as arquivo:\n",
        "    arquivo.write('alexandre      456123789')\n",
        "    arquivo.write('\\nanderson       1245698456')\n",
        "    arquivo.write('\\nantonio        123456456')\n",
        "    arquivo.write('\\ncarlos         91257581')\n",
        "    arquivo.write('\\ncesar          987458')\n",
        "    arquivo.write('\\nrosemary       789456125')\n",
        "\n",
        "nomes = []\n",
        "tamanhoByte = []\n",
        "tamanhoMega = []\n",
        "porcentagem = []\n",
        "\n",
        "def espaco_disco(nome_arquivo):\n",
        "    with open(nome_arquivo) as usuario_tamanho:\n",
        "        for linha in usuario_tamanho:\n",
        "            nomes.append(linha.split(linha[16])[0])\n",
        "            tamanhoByte.append(int(linha.split()[1]))\n",
        "        for c in tamanhoByte:\n",
        "            tamanhoMega.append(c / pow(1024, 2))\n",
        "\n",
        "def espaço_porcentagem(tamanhoMega):\n",
        "    for c in tamanhoMega:\n",
        "        porcentagem.append(c * 100 / 2581.5)\n",
        "\n",
        "espaco_disco('usuarios.txt')\n",
        "espaço_porcentagem(tamanhoMega)\n",
        "\n",
        "with open('relatório.txt', 'w+') as relatorio:\n",
        "    relatorio.write('''ACM Inc.       Uso do espaço em disco pelos usuários.\n",
        "Nr.     Usuário         Espaço utilizado        % do uso''')\n",
        "    for c in range(6):\n",
        "        relatorio.write(f'\\n{c + 1}\\t\\t{nomes[c]}{tamanhoMega[c]:.2f} MB\\t\\t\\t\\t{porcentagem[c]:.2f}%')\n",
        "\n",
        "    relatorio.write(f'\\n\\nEspaço total ocupado: {sum(tamanhoMega):.2f} MB')\n",
        "    relatorio.write(f'\\nEspaço médio ocupado: {sum(tamanhoMega) / len(nomes):.2f} MB')\n"
      ],
      "execution_count": null,
      "outputs": []
    }
  ]
}