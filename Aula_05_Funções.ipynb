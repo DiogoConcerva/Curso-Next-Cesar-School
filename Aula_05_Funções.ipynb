{
  "nbformat": 4,
  "nbformat_minor": 0,
  "metadata": {
    "colab": {
      "name": "Aula 05 - Funções.ipynb",
      "provenance": [],
      "collapsed_sections": [],
      "include_colab_link": true
    },
    "kernelspec": {
      "name": "python3",
      "display_name": "Python 3"
    },
    "language_info": {
      "name": "python"
    }
  },
  "cells": [
    {
      "cell_type": "markdown",
      "metadata": {
        "id": "view-in-github",
        "colab_type": "text"
      },
      "source": [
        "<a href=\"https://colab.research.google.com/github/DiogoConcerva/Curso-Next-Cesar-School/blob/main/Aula_05_Fun%C3%A7%C3%B5es.ipynb\" target=\"_parent\"><img src=\"https://colab.research.google.com/assets/colab-badge.svg\" alt=\"Open In Colab\"/></a>"
      ]
    },
    {
      "cell_type": "markdown",
      "metadata": {
        "id": "tRvcy-qw7juT"
      },
      "source": [
        "<img src=\"https://www.cesar.school/wp-content/uploads/2019/09/marca_cesar_school.png\" alt=\"drawing\" width=\"200\"/>\n",
        "\n",
        "# Python - **Aula 05**\n",
        "\n",
        "---\n",
        "\n",
        "- Funções"
      ]
    },
    {
      "cell_type": "markdown",
      "metadata": {
        "id": "FgyHxW3DZWcz"
      },
      "source": [
        "# Funções"
      ]
    },
    {
      "cell_type": "markdown",
      "metadata": {
        "id": "h5TpNll7b3B7"
      },
      "source": [
        "Desde que começamos a programar em Python temos descoberto várias funções da linguagem:\n",
        "- `print()`\n",
        "- `len()`\n",
        "- `del()`\n",
        "\n",
        "e também várias funções de tipos específicos de dados:\n",
        "- `str.lower()`\n",
        "- `lista.append()`\n",
        "\n",
        "Essas funções são implementadas pela própria linguagem e executam tarefas específicas. Graças a elas economizamos muito tempo, tendo em vista que não só já foram implementadas, mas também foram testadas e validadas por toda a comunidade que usa a Python.\n",
        "\n",
        "Nesta aula aprenderemos a escrever nossas próprias funções!"
      ]
    },
    {
      "cell_type": "markdown",
      "metadata": {
        "id": "Lipq6fSIIVzm"
      },
      "source": [
        "## Definindo uma função\n",
        "\n",
        "Para definir uma função, ou seja, implementa-la, é necessário usar o comando `def` seguido do nome da função, uma par de parênteses e dois pontos:\n",
        "\n",
        "```python\n",
        "def boas_vindas():\n",
        "  print('Bem-vindo(a) à CESAR School!')\n",
        "```\n",
        "\n",
        "Para executar a função, basta chama-la por sua assinatura:\n",
        "\n",
        "```python\n",
        "boas_vindas()\n",
        "```"
      ]
    },
    {
      "cell_type": "code",
      "metadata": {
        "id": "Dv6RnOgyIsyO",
        "colab": {
          "base_uri": "https://localhost:8080/"
        },
        "outputId": "fe2767e2-e134-428a-aac8-9caa1d3958c4"
      },
      "source": [
        "def boas_vindas():\n",
        "  print('Bem vindo ao Cesar Shool')\n",
        "\n",
        "boas_vindas()"
      ],
      "execution_count": null,
      "outputs": [
        {
          "output_type": "stream",
          "text": [
            "Bem vindo ao Cesar Shool\n"
          ],
          "name": "stdout"
        }
      ]
    },
    {
      "cell_type": "markdown",
      "metadata": {
        "id": "jRDwgve5ItNu"
      },
      "source": [
        "## Passando parâmetros para as funções\n",
        "\n",
        "Várias funções que conhecemos recebem parâmetros. Também podemos fazer isso da seguinte forma:\n",
        "\n",
        "```python\n",
        "def boas_vindas(nome_usuario):\n",
        "  print(f'Bem-vindo(a) {nome_usuario} à CESAR School!')\n",
        "```"
      ]
    },
    {
      "cell_type": "code",
      "metadata": {
        "id": "hy0H-ONQI7na",
        "colab": {
          "base_uri": "https://localhost:8080/"
        },
        "outputId": "6a0c9279-86f6-407b-eaa7-9d0e04ad2f29"
      },
      "source": [
        "# exemplo boas_vindas()\n",
        "def boas_vindas(nome_usuario):\n",
        "  print(f'Bem vindo(a) {nome_usuario} ao Cesar')\n",
        "\n",
        "boas_vindas('Diogo')\n",
        "# exemplo filme_favorito() // Um dos meus filmes favoritos é [nome_do_filme]\n",
        "def filme_favorito(filme):\n",
        "  print(f'Um dos meus filmes favoritos é {filme}')\n",
        "\n",
        "filme_favorito(input('Digite o nome do seu filme favorito: '))\n",
        "\n",
        "# exemplo soma()\n",
        "def soma(x, y):\n",
        "  print(f'A soma é: {x + y}')\n",
        "\n",
        "soma(int(input('Digite um valor: ')), int(input('Digite um valor: ')))\n",
        "#soma(int('Digite dois valores para soma: '))\n",
        "\n"
      ],
      "execution_count": null,
      "outputs": [
        {
          "output_type": "stream",
          "text": [
            "Bem vindo(a) Diogo ao Cesar\n",
            "Digite o nome do seu filme favorito: Rambo\n",
            "Um dos meus filmes favoritos é Rambo\n",
            "Digite um valor: 10\n",
            "Digite um valor: 15\n",
            "A soma é: 25\n"
          ],
          "name": "stdout"
        }
      ]
    },
    {
      "cell_type": "markdown",
      "metadata": {
        "id": "b23YBQFiJGRu"
      },
      "source": [
        "## Argumentos posicionais e nomeados\n",
        "\n",
        "- Posicional: Quando são passados na mesma ordem dos parâmetros\n",
        "- Nomeados: Um par nome-valor passados para a função\n",
        "\n",
        "```python\n",
        "# V = d/t\n",
        "def velocidade(distancia, tempo):\n",
        "  print(distancia/tempo)\n",
        "```"
      ]
    },
    {
      "cell_type": "code",
      "metadata": {
        "id": "DMmNAEP9JOyu",
        "colab": {
          "base_uri": "https://localhost:8080/"
        },
        "outputId": "32e290ef-5dcf-41da-f935-3dea57a69652"
      },
      "source": [
        "def velo(dist, temp):\n",
        "  print(dist / temp)\n",
        "\n",
        "# posicional\n",
        "velo(10, 2)\n",
        "\n",
        "# nomeado\n",
        "velo(temp = 2, dist = 10)\n",
        "\n",
        "# Ou\n",
        "\n",
        "t = 2\n",
        "d = 10\n",
        "velo(temp = t, dist = d)\n"
      ],
      "execution_count": null,
      "outputs": [
        {
          "output_type": "stream",
          "text": [
            "5.0\n",
            "5.0\n",
            "5.0\n"
          ],
          "name": "stdout"
        }
      ]
    },
    {
      "cell_type": "markdown",
      "metadata": {
        "id": "21DC9QeGJVt2"
      },
      "source": [
        "## Valores predefinidos (default)\n",
        "\n",
        "```python\n",
        " print(*objects, sep=' ', end='\\n', file=sys.stdout, flush=False)\n",
        "```\n",
        "\n",
        "> *Mais detalhes sobre o print [aqui](https://docs.python.org/3/library/functions.html#print).*"
      ]
    },
    {
      "cell_type": "code",
      "metadata": {
        "id": "uiWByYm5KgOu",
        "colab": {
          "base_uri": "https://localhost:8080/"
        },
        "outputId": "19ae07c9-8dd5-42ee-b207-a3fccfbfe913"
      },
      "source": [
        "# print('oi', end='-')\n",
        "print(10, 20, 30, sep=' - ', end=' -> ')\n",
        "print('Olá')\n",
        "\n",
        "\n",
        "# velocidade (parâmetros default)\n",
        "def velo(dist, temp=2):\n",
        "  print(dist / temp)\n",
        "\n",
        "velo(5, 8)\n",
        "velo(4)\n"
      ],
      "execution_count": null,
      "outputs": [
        {
          "output_type": "stream",
          "text": [
            "10 - 20 - 30 -> Olá\n",
            "0.625\n",
            "2.0\n"
          ],
          "name": "stdout"
        }
      ]
    },
    {
      "cell_type": "markdown",
      "metadata": {
        "id": "wxMB_--7Kq1J"
      },
      "source": [
        "## Retornando Valores\n",
        "\n",
        "Para que uma função possa devolver um valor para sua chamada, usamos a palavra reservada `return`.\n",
        "\n",
        "> Obs.: Depois que o comando `return` é alcançado, a função é finalizada. Qualquer código após o `return` é inalcançãvel."
      ]
    },
    {
      "cell_type": "code",
      "metadata": {
        "id": "cqpR-ge6MIuY",
        "colab": {
          "base_uri": "https://localhost:8080/"
        },
        "outputId": "a47fce22-0b8f-4f00-d9d9-8ee7f7de8524"
      },
      "source": [
        "# velocidade\n",
        "def velo(dist, temp):\n",
        "  return(dist / temp)\n",
        "\n",
        "v = velo(10, 5)\n",
        "print(v)\n",
        "# positivo ou negativo - usando condicionais\n",
        "def neg_pos(num):\n",
        "  if num >= 0:\n",
        "    return 'É positivo'\n",
        "  else:\n",
        "    return 'É negativo'\n",
        "\n",
        "print(neg_pos(-10))\n",
        "\n"
      ],
      "execution_count": null,
      "outputs": [
        {
          "output_type": "stream",
          "text": [
            "2.0\n",
            "É negativo\n"
          ],
          "name": "stdout"
        }
      ]
    },
    {
      "cell_type": "markdown",
      "metadata": {
        "id": "t1Yw1AmBMcq3"
      },
      "source": [
        "## ⚠ Passando um número arbitrário de parâmetros\n",
        "\n",
        "As vezes você não sabe quantos parâmetros vão ser passados para a sua função. Nesse caso, é possível receber um valor variável de parâmetros usando `*` antes do nome da variável:\n",
        "\n",
        "```python\n",
        "def prepara_acai(*ingredientes, tamanho='medio'):\n",
        "```\n",
        "\n",
        "Esse recurso é usado no `print` para poder receber vários parâmetros\n",
        "\n",
        "```python\n",
        " print(*objects, sep=' ', end='\\n', file=sys.stdout, flush=False)\n",
        "```\n"
      ]
    },
    {
      "cell_type": "code",
      "metadata": {
        "id": "eAuJCRDFNSIg",
        "colab": {
          "base_uri": "https://localhost:8080/"
        },
        "outputId": "8fe2e41a-a189-4c50-be97-5d239a59f16f"
      },
      "source": [
        "# prepara_acai\n",
        "# Quando uso número arbitrário tenho que usar obrigatoriamente um valor default\n",
        "def prepara_acai(*ingredientes, tamanho = 'medio'):\n",
        "  print(f'Produzindo um açaí tamanho {tamanho}, com os ingredientes:')\n",
        "  for ingrediente in ingredientes:\n",
        "    print(f'- {ingrediente}')\n",
        "\n",
        "prepara_acai('Leite em pó', 'Farinha láctea', 'Chocobol', tamanho = 'grande')"
      ],
      "execution_count": null,
      "outputs": [
        {
          "output_type": "stream",
          "text": [
            "Produzindo um açaí tamanho grande, com os ingredientes:\n",
            "- Leite em pó\n",
            "- Farinha láctea\n",
            "- Chocobol\n"
          ],
          "name": "stdout"
        }
      ]
    },
    {
      "cell_type": "markdown",
      "metadata": {
        "id": "y-q0T5r5OX1n"
      },
      "source": [
        "## Função com funções"
      ]
    },
    {
      "cell_type": "code",
      "metadata": {
        "id": "_q3Hi3-ZOYpv"
      },
      "source": [
        "# max_min\n",
        "def maximo(l):\n",
        "  return l[0]\n",
        "\n",
        "def minimo(l):\n",
        "  return l[1]\n",
        "\n",
        "def max_min(l):\n",
        "  print(maximo(l))\n",
        "  print(minimo(l))\n"
      ],
      "execution_count": null,
      "outputs": []
    },
    {
      "cell_type": "markdown",
      "metadata": {
        "id": "l2t5ZMQ0OphQ"
      },
      "source": [
        "## ⚠ Funções recursivas\n",
        "\n",
        "É chamada de função recursiva aquela que faz uma chamada para ela mesma."
      ]
    },
    {
      "cell_type": "code",
      "metadata": {
        "id": "s7YXNWaIOtXg",
        "colab": {
          "base_uri": "https://localhost:8080/"
        },
        "outputId": "e249b0fc-9dd7-4aa0-c863-191fb593b506"
      },
      "source": [
        "# dobra_lencol\n",
        "def dobra_lencol(lencol, gaveta):\n",
        "  if lencol <= gaveta:\n",
        "    return 0\n",
        "  else:\n",
        "    return 1 + dobra_lencol(lencol / 2, gaveta)\n",
        "\n",
        "print(dobra_lencol(10, 2))\n"
      ],
      "execution_count": null,
      "outputs": [
        {
          "output_type": "stream",
          "text": [
            "3\n"
          ],
          "name": "stdout"
        }
      ]
    },
    {
      "cell_type": "markdown",
      "metadata": {
        "id": "z1z5Wv98Psc_"
      },
      "source": [
        "# Exercícios Fundamentais"
      ]
    },
    {
      "cell_type": "markdown",
      "metadata": {
        "id": "DxKeyLJkPw8u"
      },
      "source": [
        "1. Crie um programa que receba um valor inteiro e avalie se ele é positivo ou negativo. Essa avaliação deve ocorrer dentro de uma função que retorna um valor booleano."
      ]
    },
    {
      "cell_type": "code",
      "metadata": {
        "id": "j9so2HjLQ3ro",
        "colab": {
          "base_uri": "https://localhost:8080/",
          "height": 52
        },
        "outputId": "d2e12ce7-a5ef-4e1c-e1b2-31ceb4ddedeb"
      },
      "source": [
        "def positivo_negativo(num):\n",
        "  if num > 0:\n",
        "    return f'O {num} é positivo.'\n",
        "  else:\n",
        "    return f'O {num} é negativo'\n",
        "\n",
        "positivo_negativo(float(input('Informe um número para análise: ')))"
      ],
      "execution_count": null,
      "outputs": [
        {
          "output_type": "stream",
          "text": [
            "Informe um número para análise: -5\n"
          ],
          "name": "stdout"
        },
        {
          "output_type": "execute_result",
          "data": {
            "application/vnd.google.colaboratory.intrinsic+json": {
              "type": "string"
            },
            "text/plain": [
              "'O -5.0 é negativo'"
            ]
          },
          "metadata": {
            "tags": []
          },
          "execution_count": 25
        }
      ]
    },
    {
      "cell_type": "markdown",
      "metadata": {
        "id": "VkirgJsaQ3_o"
      },
      "source": [
        "2. Crie um programa que tenha uma função que receba uma lista de números inteiros e exiba todos os valores multiplicados por um valor inserido pelo usuário."
      ]
    },
    {
      "cell_type": "code",
      "metadata": {
        "id": "n0SoCk-bQ9j_",
        "colab": {
          "base_uri": "https://localhost:8080/"
        },
        "outputId": "26e26bcd-1b63-4da0-91ea-d2d30c4d3ca4"
      },
      "source": [
        "def multiplicacao(l, num_multiplicador):\n",
        "    for num in l:\n",
        "        print(num * num_multiplicador)\n",
        "\n",
        "l = []\n",
        "qtd_lista = int(input('Informe a quantidade de números que deseja inserir na lista: '))\n",
        "num_multiplicador = int(input('Informe por qual números deseja multiplicar a lista: '))\n",
        "for c in range(qtd_lista):\n",
        "    l.append(int(input(f'Insira o {c + 1}º valor: ')))\n",
        "multiplicacao(l, num_multiplicador)\n",
        "  "
      ],
      "execution_count": null,
      "outputs": [
        {
          "output_type": "stream",
          "text": [
            "Informe a quantidade de números que deseja inserir na lista: 5\n",
            "Informe por qual números deseja multiplicar a lista: 5\n",
            "Insira o 1º valor: 1\n",
            "Insira o 2º valor: 2\n",
            "Insira o 3º valor: 3\n",
            "Insira o 4º valor: 4\n",
            "Insira o 5º valor: 5\n",
            "5\n",
            "10\n",
            "15\n",
            "20\n",
            "25\n"
          ],
          "name": "stdout"
        }
      ]
    },
    {
      "cell_type": "markdown",
      "metadata": {
        "id": "Deh14fiBXTGI"
      },
      "source": [
        "3. Crie um programa que possua uma lista de nomes. Peça que o usuário insira um nome que será buscado nesta lista. A busca deve ser implementada em uma função que retorna os valores lógicos verdadeiro ou falso."
      ]
    },
    {
      "cell_type": "code",
      "metadata": {
        "id": "XCLsXWtiXUQo",
        "colab": {
          "base_uri": "https://localhost:8080/"
        },
        "outputId": "4822ff4a-e009-4469-e295-87978b9c6287"
      },
      "source": [
        "def buscaNome(l, nome):\n",
        "    for nomes in l:\n",
        "        if(nomes == nome):\n",
        "            return True\n",
        "    return False\n",
        "\n",
        "l = []\n",
        "qtdNomes = int(input('Qunatos nomes deseja inserir? '))\n",
        "nome = input('Qual nome deseja procurar? ')\n",
        "for _ in range(qtdNomes):\n",
        "    l.append(input(f'Digite um nome: '))\n",
        "print(buscaNome(l, nome))"
      ],
      "execution_count": null,
      "outputs": [
        {
          "output_type": "stream",
          "text": [
            "Qunatos nomes deseja inserir? 5\n",
            "Qual nome deseja procurar? Miguel\n",
            "Digite um nome: Cecília\n",
            "Digite um nome: Diogo\n",
            "Digite um nome: Valentina\n",
            "Digite um nome: Miguel\n",
            "Digite um nome: Alice\n",
            "True\n"
          ],
          "name": "stdout"
        }
      ]
    },
    {
      "cell_type": "markdown",
      "metadata": {
        "id": "jrFYQ-oxXAcZ"
      },
      "source": [
        "4. Implemente um programa que possa receber do usuário a temperatura em graus Celsius ou Fahrenheit. Antes de receber a temperatura, pergunte ao usuário se ele deseja inserir em Celsius ou em Fahrenheit. Se a entrada for em graus Celsius, o programa deverá retornar a temperatura em Fahrenheit. Se a entrada for em Fahrenheit, o programa deverá retornar a temperatura em Celsius."
      ]
    },
    {
      "cell_type": "markdown",
      "metadata": {
        "id": "dofVaIZIJvwZ"
      },
      "source": [
        "F = C x 1,8 + 32\n",
        "\n"
      ]
    },
    {
      "cell_type": "code",
      "metadata": {
        "id": "Lx1wCnOXXNaR",
        "colab": {
          "base_uri": "https://localhost:8080/"
        },
        "outputId": "958b610b-5e60-4cbf-bb83-d2e68aae58d9"
      },
      "source": [
        "def transforma_celsius(temp):\n",
        "    print(f'A temperatura equivalente a Celsius é {(temp - 32) * 5 / 9:.2f}ºC')\n",
        "\n",
        "def transforma_fahrenheit(temp):\n",
        "    print(f'A temperatura equivalente a Fahrenheit é {(temp * 9 / 5) + 32:.2f}ºF')\n",
        "\n",
        "escolha = str(input('Deseja inserir a temperatura em Celsius (C) ou Fahrenheit (F)? Use C ou F: ')).upper()\n",
        "if escolha == 'C':\n",
        "    temp = float(input('Informe a temperatura em celsius: '))\n",
        "    transforma_fahrenheit(temp)\n",
        "elif escolha == 'F':\n",
        "    temp = float(input('Informe a temperatura em fahrenheit: '))\n",
        "    transforma_celsius(temp)"
      ],
      "execution_count": null,
      "outputs": [
        {
          "output_type": "stream",
          "text": [
            "Deseja inserir a temperatura em Celsius (C) ou Fahrenheit (F)? Use C ou F: c\n",
            "Informe a temperatura em celsius: 40\n",
            "A temperatura equivalente a Fahrenheit é 104.00ºF\n"
          ],
          "name": "stdout"
        }
      ]
    },
    {
      "cell_type": "markdown",
      "metadata": {
        "id": "qZcEz7I2XN1S"
      },
      "source": [
        "5. Crie um programa que receba do usuário 5 números inteiros e os exiba na tela na ordem contrária a que foi inserido. A leitura dos números deve ser feita em uma função e a exibição dos valores em ordem contrária deve ocorrer em outra função."
      ]
    },
    {
      "cell_type": "code",
      "metadata": {
        "id": "gTD0TuEiXxax",
        "colab": {
          "base_uri": "https://localhost:8080/"
        },
        "outputId": "8022783a-84d0-4e8c-88f1-578298e22768"
      },
      "source": [
        "l = []\n",
        "\n",
        "def ordena_contrario(l):\n",
        "    print(l[::-1])\n",
        "\n",
        "def leitura_numeros():\n",
        "    for c in range(5):\n",
        "        l.append(int(input(f'Informe o {c + 1}º número: ')))\n",
        "    ordena_contrario(l)\n",
        "leitura_numeros()"
      ],
      "execution_count": null,
      "outputs": [
        {
          "output_type": "stream",
          "text": [
            "Informe o 1º número: 105\n",
            "Informe o 2º número: 45\n",
            "Informe o 3º número: 23\n",
            "Informe o 4º número: 10\n",
            "Informe o 5º número: 99\n",
            "[99, 10, 23, 45, 105]\n"
          ],
          "name": "stdout"
        }
      ]
    },
    {
      "cell_type": "markdown",
      "metadata": {
        "id": "saUWUg4hT6zi"
      },
      "source": [
        "6. Crie um programa que tenha uma função que receba uma lista de números inteiros e exiba todos os seus valores em ordem invertida.\n",
        "Obs.: Sem usar `invert` ou o fatiador com passo `-1`."
      ]
    },
    {
      "cell_type": "code",
      "metadata": {
        "id": "4m8R-3pHX0yR",
        "colab": {
          "base_uri": "https://localhost:8080/"
        },
        "outputId": "368036ca-b60c-4931-95ed-4a3c88af65e3"
      },
      "source": [
        "l = []\n",
        "\n",
        "def ordena_contrario(l):\n",
        "    for num in reversed(l):\n",
        "        print(num)\n",
        "\n",
        "def leitura_numeros(numeros):\n",
        "    for c in range(numeros):\n",
        "        l.append(int(input(f'Informe o {c + 1}º número: ')))\n",
        "    ordena_contrario(l)\n",
        "numeros = int(input('Quantos números deseja inserir na lista? '))\n",
        "leitura_numeros(numeros)"
      ],
      "execution_count": null,
      "outputs": [
        {
          "output_type": "stream",
          "text": [
            "Quantos números deseja inserir na lista? 4\n",
            "Informe o 1º número: 96\n",
            "Informe o 2º número: 101\n",
            "Informe o 3º número: 01\n",
            "Informe o 4º número: 36\n",
            "36\n",
            "1\n",
            "101\n",
            "96\n"
          ],
          "name": "stdout"
        }
      ]
    },
    {
      "cell_type": "markdown",
      "metadata": {
        "id": "-mVgCguqY_rR"
      },
      "source": [
        "# Exercícios de Aprofundamento"
      ]
    },
    {
      "cell_type": "markdown",
      "metadata": {
        "id": "n7sCiHMxMleY"
      },
      "source": [
        "1. Faça um programa para imprimir:\n",
        "\n",
        "```\n",
        "    1\n",
        "    2   2\n",
        "    3   3   3\n",
        "    .....\n",
        "    n   n   n   n   n   n  ... n\n",
        "```\n",
        "\n",
        "\n",
        "\n"
      ]
    },
    {
      "cell_type": "code",
      "metadata": {
        "id": "zaJ0y7MtMwTn",
        "colab": {
          "base_uri": "https://localhost:8080/"
        },
        "outputId": "c9f4e759-7659-4be4-e079-4fb1aefec35e"
      },
      "source": [
        "def imprimir(quantidade):\n",
        "    for a in range(1, quantidade + 1):\n",
        "        for b in range(a):\n",
        "            print(a, end='   ')\n",
        "        print('\\n')\n",
        "\n",
        "quantidade = int(input('Quantos números deseja imprimir? '))\n",
        "imprimir(quantidade)"
      ],
      "execution_count": null,
      "outputs": [
        {
          "output_type": "stream",
          "text": [
            "Quantos números deseja imprimir? 5\n",
            "1   \n",
            "\n",
            "2   2   \n",
            "\n",
            "3   3   3   \n",
            "\n",
            "4   4   4   4   \n",
            "\n",
            "5   5   5   5   5   \n",
            "\n"
          ],
          "name": "stdout"
        }
      ]
    },
    {
      "cell_type": "markdown",
      "metadata": {
        "id": "oapI1thQMwsj"
      },
      "source": [
        "2. Faça um programa para imprimir:\n",
        "\n",
        "```\n",
        "    1\n",
        "    1   2\n",
        "    1   2   3\n",
        "    .....\n",
        "    1   2   3   ...  n\n",
        "```"
      ]
    },
    {
      "cell_type": "code",
      "metadata": {
        "id": "u6g1IohcM3c3",
        "colab": {
          "base_uri": "https://localhost:8080/"
        },
        "outputId": "2a1978f0-b4ce-48d3-ab8e-21af5758233d"
      },
      "source": [
        "def imprimir(quantidade):\n",
        "    for a in range(1, quantidade + 2):\n",
        "        for b in range(1, a):\n",
        "            print(b, end='   ')\n",
        "        print('\\n')\n",
        "        \n",
        "quantidade = int(input('Quantos números deseja imprimir? '))\n",
        "imprimir(quantidade)"
      ],
      "execution_count": null,
      "outputs": [
        {
          "output_type": "stream",
          "text": [
            "Quantos números deseja imprimir? 7\n",
            "\n",
            "\n",
            "1   \n",
            "\n",
            "1   2   \n",
            "\n",
            "1   2   3   \n",
            "\n",
            "1   2   3   4   \n",
            "\n",
            "1   2   3   4   5   \n",
            "\n",
            "1   2   3   4   5   6   \n",
            "\n",
            "1   2   3   4   5   6   7   \n",
            "\n"
          ],
          "name": "stdout"
        }
      ]
    },
    {
      "cell_type": "markdown",
      "metadata": {
        "id": "syxp-pz5Xxqo"
      },
      "source": [
        "3. Faça uma função que receba um valor inteiro e positivo e calcule o seu fatorial."
      ]
    },
    {
      "cell_type": "code",
      "metadata": {
        "id": "cUvZOqeXKR-K",
        "colab": {
          "base_uri": "https://localhost:8080/"
        },
        "outputId": "cfa1c5ae-4958-42b2-bb36-d9e4c47f44ef"
      },
      "source": [
        "import math\n",
        "\n",
        "def fatorial(fat):\n",
        "    print(math.factorial(fat))\n",
        "    \n",
        "fat = int(input('Qual número deseja calcular seu fatorial? '))\n",
        "fatorial(fat)"
      ],
      "execution_count": null,
      "outputs": [
        {
          "output_type": "stream",
          "text": [
            "Qual número deseja calcular seu fatorial? 6\n",
            "720\n"
          ],
          "name": "stdout"
        }
      ]
    },
    {
      "cell_type": "code",
      "metadata": {
        "colab": {
          "base_uri": "https://localhost:8080/"
        },
        "id": "Io9jCggLR4lI",
        "outputId": "bdf20cc4-8b05-49eb-e16d-a67425a0faf7"
      },
      "source": [
        "def fatorial(fat):\n",
        "    if fat == 0:\n",
        "        return 1\n",
        "    return fat * fatorial(fat - 1)\n",
        "\n",
        "fat = int(input('Qual número deseja calcular seu fatorial? '))\n",
        "print(fatorial(fat))"
      ],
      "execution_count": null,
      "outputs": [
        {
          "output_type": "stream",
          "text": [
            "Qual número deseja calcular seu fatorial? 6\n",
            "720\n"
          ],
          "name": "stdout"
        }
      ]
    },
    {
      "cell_type": "markdown",
      "metadata": {
        "id": "3a_fuVWBMZZT"
      },
      "source": [
        "4. Faça um programa com uma função chamada somaImposto. A função possui dois parâmetros formais: taxaImposto, que é a quantia de imposto sobre vendas expressa em porcentagem e custo, que é o custo de um item antes do imposto. A função “altera” o valor de custo para incluir o imposto sobre vendas."
      ]
    },
    {
      "cell_type": "code",
      "metadata": {
        "id": "txL6zw6XMaip",
        "colab": {
          "base_uri": "https://localhost:8080/"
        },
        "outputId": "70a26958-e8f5-484d-c764-e13da90d5ef9"
      },
      "source": [
        "def somaImposto(taxaImposto, custo):\n",
        "    print(f'O valor com imposto do produto é: R$ {((taxaImposto / 100) * custo) + custo:.2f}')\n",
        "\n",
        "somaImposto(float(input('Informe a taxa de imposto em %: ')), float(input('Custo do produto sem imposto: ')))"
      ],
      "execution_count": null,
      "outputs": [
        {
          "output_type": "stream",
          "text": [
            "Informe a taxa de imposto em %: 50\n",
            "Custo do produto sem imposto: 500\n",
            "O valor com imposto do produto é: R$ 750.00\n"
          ],
          "name": "stdout"
        }
      ]
    },
    {
      "cell_type": "markdown",
      "metadata": {
        "id": "7brhqI2YNm4J"
      },
      "source": [
        "5. Um palíndromo é uma palavra que se soletra da mesma forma nos dois sentidos, como “osso” e “reviver”. Escreva um função que dado uma plavra verifique se ela é palindro."
      ]
    },
    {
      "cell_type": "code",
      "metadata": {
        "id": "tRnE7E2MNuDg",
        "colab": {
          "base_uri": "https://localhost:8080/"
        },
        "outputId": "772c8c51-1e77-4d10-ac27-97e41238eb24"
      },
      "source": [
        "def verifica(palavra):\n",
        "    l = list(palavra)\n",
        "    resultado = 'É palíndromo' if l == l[::-1] else 'Não é palíndromo'\n",
        "    print(resultado)\n",
        "\n",
        "palavra = input('Digite uma palavra para verificarmos se ela é um palíndromo: ')\n",
        "verifica(palavra)"
      ],
      "execution_count": null,
      "outputs": [
        {
          "output_type": "stream",
          "text": [
            "Digite uma palavra para verificarmos se ela é um palíndromo: osso\n",
            "É palíndromo\n"
          ],
          "name": "stdout"
        }
      ]
    },
    {
      "cell_type": "markdown",
      "metadata": {
        "id": "I5MYkuI-LzVO"
      },
      "source": [
        "6. Construa uma função que receba uma string como parâmetro e devolva outra string com os carateres embaralhados. Por exemplo: se função receber a palavra python, pode retornar npthyo, ophtyn ou qualquer outra combinação possível, de forma aleatória. Padronize em sua função que todos os caracteres serão devolvidos em caixa alta ou caixa baixa, independentemente de como foram digitados."
      ]
    },
    {
      "cell_type": "code",
      "metadata": {
        "id": "O2g_x_EsL0ju",
        "colab": {
          "base_uri": "https://localhost:8080/"
        },
        "outputId": "6b678109-e1d8-4adf-e5e4-fff3bc135d88"
      },
      "source": [
        "# Para pesquisa, veja a biblioteca random\n",
        "import random\n",
        "\n",
        "def embaralhar(palavra):\n",
        "    embaralha = list(palavra)\n",
        "    random.shuffle(embaralha)\n",
        "    embaralha = ''.join(embaralha)\n",
        "    print(embaralha.upper())\n",
        "\n",
        "palavra = input('Digite uma palavra: ')\n",
        "embaralhar(palavra)\n"
      ],
      "execution_count": null,
      "outputs": [
        {
          "output_type": "stream",
          "text": [
            "Digite uma palavra: python\n",
            "OTHYPN\n"
          ],
          "name": "stdout"
        }
      ]
    }
  ]
}